{
 "cells": [
  {
   "cell_type": "markdown",
   "metadata": {},
   "source": [
    "# Supersonic Flow over Flat plate"
   ]
  },
  {
   "cell_type": "markdown",
   "metadata": {},
   "source": [
    "This notebook examines a two-dimensional, laminar, viscous, supersonic flow past a flat plate with zero angle of attack. The main source of this notebook is $\\textit{Computational Fluid Dynamics, The Basics With Applications}$ by John D. Anderson."
   ]
  },
  {
   "cell_type": "markdown",
   "metadata": {},
   "source": [
    "## Problem Statement"
   ]
  },
  {
   "cell_type": "markdown",
   "metadata": {},
   "source": [
    "As incoming supersonic flow meets the leading edge of a thin flat plate with no angle of attack, a viscous and laminar boundary layer develops. The boundary layer remains laminar as long as the Reynolds number remains below the turbulent regime.\n",
    "\n",
    "This physical phenomenon causes the delvelopment of a shock wave, which is curved due to the presence of the boundary layer, as seen in Figure 1.  Anderson (1995) states that depending on the incoming Mach number, Reynolds number, and plate temperature, the shock layer can contain regions of both viscous and inviscid flows, or it can also be characterized as fully viscous.\n",
    "\n",
    "Additionally, viscous dissipation of kinetic energy in the shock layer can cause high temperature areas and high heat transfer rates (Anderson, 1995)."
   ]
  },
  {
   "cell_type": "markdown",
   "metadata": {},
   "source": [
    "<img src=\"./figures/flow_diagram.png\">\n",
    "\n",
    "\n",
    "#### Figure 1. Supersonic flow over flat plate"
   ]
  },
  {
   "cell_type": "markdown",
   "metadata": {},
   "source": [
    "## The Governing Equations"
   ]
  },
  {
   "cell_type": "markdown",
   "metadata": {},
   "source": [
    "The problem can be studied using the time-dependent, two-dimensional Navier-Stokes equations with negligent body forces and volumetric heating (Anderson, 1995). The equations for continuity, and x and y momentum are:\n",
    "\n",
    "\\begin{align}\n",
    "0=& \\frac{\\partial \\rho}{\\partial t} + \\frac{\\partial}{\\partial x}(\\rho u ) + \\frac{\\partial}{\\partial y} ( \\rho v )   \\\\\n",
    "0 =& \\frac{\\partial}{\\partial t}( \\rho u ) + \\frac{\\partial}{\\partial x}( \\rho u^2 + P - \\tau_{xx}) + \\frac{\\partial}{\\partial y} ( \\rho uv -\\tau_{yx}) \\\\\n",
    "0=& \\frac{\\partial}{\\partial t}( \\rho v ) + \\frac{\\partial}{\\partial x} ( \\rho uv - \\tau_{xy} ) + \\frac{\\partial}{\\partial y}  ( \\rho v^2 + P -\\tau_{yy} ) \\\\\n",
    "0=& \\frac{\\partial}{\\partial t}E_{t} + \\frac{\\partial}{\\partial x} \\big( (E_{t}+P)u - u \\tau_{xx} - v \\tau_{xy} + q_{x} \\big) + \\frac{\\partial}{\\partial x} \\big( (E_{t}+P)v - u \\tau_{yx} - v \\tau_{yy} + q_{y} \\big) \\\\\n",
    "\\end{align}\n",
    "\n",
    "In these equations, $E_{t}$ is the sum of kinetic and internal energy per unit volume, and is defined as:\n",
    "\n",
    "\\begin{equation}\n",
    "E_{t} = \\rho \\big( e + \\frac{V^2}{2} \\big) \\\\\n",
    "\\end{equation}\n",
    "\n",
    "Additionally, the shear and normal stresses can be expressed in terms of velocity gradiens as:\n",
    "\n",
    "\\begin{align}\n",
    "\\tau_{xy} &= \\tau_{yx} = \\mu \\big( \\frac{\\partial u }{\\partial y} + \\frac{\\partial v}{\\partial x} \\big) \\\\\n",
    "\\tau_{xx} &= \\lambda \\big( \\nabla  \\textbf{V} \\big) + 2 \\mu \\frac{\\partial u }{\\partial x} \\\\\n",
    "\\tau_{yy} &= \\lambda \\big( \\nabla  \\textbf{V} \\big) + 2 \\mu \\frac{\\partial v }{\\partial y} \\\\\n",
    "\\end{align}\n",
    "\n",
    "From Fourier's heat conduction law, the heat flux components are:\n",
    "\n",
    "\\begin{align}\n",
    "q_{x} &= -k \\frac{\\partial T }{\\partial x} \\\\\n",
    "q_{y} &= -k \\frac{\\partial T }{\\partial y}\n",
    "\\end{align}"
   ]
  },
  {
   "cell_type": "markdown",
   "metadata": {},
   "source": [
    "So far, the system consists of four equations ( 1 through 4 above). The system also contains nine uknowns, which are:\n",
    "\n",
    "* density, $\\rho$ \n",
    "* x-velocity, u \n",
    "* y-velocity, v \n",
    "* velocity magnitude, $|\\textbf{V}| $\n",
    "* pressure, P \n",
    "* temperature, T \n",
    "* internal energy e \n",
    "* viscosity, $\\mu$, and \n",
    "* thermal conductivity, k\n",
    "\n",
    "Since there are more unknowns than equations, we need to close the system by adding more equations. Assuming that the air is calorically perfect, we can write an additional five equations for pressure, internal energy, velocity magnitude, viscosity, and thermal conductivity.\n",
    "\n",
    "1. P = $\\rho$RT\n",
    "2. e = $c_{v}$T\n",
    "3. $|\\textbf{V}| $ = $\\sqrt{u^{2}+v^{2}}$\n",
    "4. $\\mu  = \\mu_{o} \\big(\\frac{T}{T_{o}} \\big)^{\\frac{3}{2}} \\bigg( \\frac{T_{o} +110}{T + 110} \\bigg) \\hspace{1em} \\text{(Sutherland's law)}$ \n",
    "5. Pr = 0.71 = $\\frac{\\mu c_{p}}{k} \\hspace{1em} \\text{(Prandtl number)}$\n",
    "\n",
    "Now that the system of equations is closed, we can proceed to the discretization scheme."
   ]
  },
  {
   "cell_type": "markdown",
   "metadata": {},
   "source": [
    "## Discretization "
   ]
  },
  {
   "cell_type": "markdown",
   "metadata": {},
   "source": [
    "In this notebook, the governing equations are discretized using the MacCormack finite difference scheme. As we have learned from previous notebooks, the MacCormack scheme is second order accurate in space and time. \n",
    "\n",
    "To begin the discretization process, we can express the system of governing equations in vector form:\n",
    "\n",
    "\\begin{equation}\n",
    "\\frac{\\partial \\textbf{U}}{\\partial t} + \\frac{\\partial \\textbf{E}}{\\partial x} + \\frac{\\partial \\textbf{F}}{\\partial y} = 0,\n",
    "\\end{equation}\n",
    "\n",
    "where the vectors $\\textbf{U}, \\textbf{E}$, and $\\textbf{F}$ are:\n",
    "\n",
    "$$\\textbf{U} = \n",
    "\\left[ \\begin{array}{c}\n",
    "\\rho \\\\\n",
    "\\rho u \\\\\n",
    "\\rho v \\\\\n",
    "E_{t}\n",
    "\\end{array} \\right]$$\n",
    "\n",
    "$$\\textbf{E} = \n",
    "\\left[ \\begin{array}{c}\n",
    "\\rho u\\\\\n",
    "\\rho u^2 + P - \\tau_{xx}\\\\\n",
    "\\rho uv - \\tau_{xy} \\\\\n",
    "(E_{t}+P)u - u\\tau_{xx} - v\\tau_{xy} + q_{x} \n",
    "\\end{array} \\right] $$ \n",
    "\n",
    "$$\\textbf{F} = \n",
    "\\left[ \\begin{array}{c}\n",
    "\\rho v \\\\\n",
    "\\rho uv - \\tau_{xy}  \\\\\n",
    "\\rho v^2 + P - \\tau_{xy} \\\\ \n",
    "(E_{t}+P)v - u\\tau_{xy} - v\\tau_{yy} + q_{y}\n",
    "\\end{array} \\right] $$ \n",
    "\n",
    "Now that we have arranged the properties of mass momentum, energy, and fluxes, we can apply the MacCormack two-step method. It is as follows:\n",
    "\n",
    "predictor step:\n",
    "\n",
    "\\begin{equation}\n",
    "U^*_{i,j} = U^n_{i,j} - \\frac{\\Delta t}{\\Delta x} (E^n_{i+1,j}-E^n_{i,j}) - \\frac{\\Delta t}{\\Delta y} (F^n_{i,j+1}-F^n_{i,j})\\\n",
    "\\end{equation}\n",
    "\n",
    "corrector step:\n",
    "\n",
    "\\begin{equation}\n",
    "U^{n+1}_{i,j} = \\frac{1}{2} \\big( U^n_{i,j} + U^*_{i,j} - \\frac{\\Delta t}{\\Delta x} (E^*_{i,j} - E^{*}_{i-1,j}) - \\frac{\\Delta t}{\\Delta y}(F^*_{i,j} - F^{*}_{i,j-1}) \\big) \\ \n",
    "\\end{equation}\n",
    "\n"
   ]
  },
  {
   "cell_type": "markdown",
   "metadata": {},
   "source": [
    "### The issue of maintaing second order accuracy"
   ]
  },
  {
   "cell_type": "markdown",
   "metadata": {},
   "source": [
    "Anderson (1995) specifies that in order to maintain second order accuracy, the x derivatives appearing in the E flux vector (e.g. in the shear and normal stresses) are differenced in the opposite direction of discretization of $\\frac{\\partial E}{\\partial x}$, while the y derivatives are discretized centrally. Similarly, the y derivatives appearing in F flux are differenced in the opposite direction of discretization of $\\frac{\\partial F}{\\partial y}$, while the x derivatives are discretized centrally.\n",
    "\n",
    "As an example, consider the predictor step. The E flux vector is differenced forward in space which means that the x derivatives that appear in E will be discretized in a backward direction and the y derivatives will be differenced centrally. Additionally, the F flux vector is differenced in a y-forward direction, which means that the y derivatives that appear in F will be discretized in a backward direction and the x derivatives will be differenced centrally. Then for predictor step we have discretizations as such:\n",
    "\n",
    "$\\begin{align}\n",
    "\\frac{\\partial E}{\\partial x} \\approx \\frac{1}{\\Delta x} (E_{i+1,j}-E_{i,j}) \n",
    "\\end{align}$,\n",
    "\n",
    "and the derivatives appearing in E are discretized like this:\n",
    "\n",
    "$\n",
    "\\hspace{2.5em} E_{0} = \\rho u, \\text{(no derivatives)} \n",
    "$\n",
    "\n",
    "$\\begin{align}\n",
    "E_{1} = \\rho u^{2} + &P - \\\\\n",
    "& \\lambda \\big( \\frac{\\textbf{V}_{i,j}-\\textbf{V}_{i-1,j} }{\\Delta x} + \\frac{\\textbf{V}_{i,j+1}-\\textbf{V}_{i,j-1} }{2 \\Delta y} \\big) + 2\\mu \\big( \\frac{u_{i,j}-u_{i-1,j}}{\\Delta x}  \\big)\n",
    "\\end{align}$\n",
    "\n",
    "$\\begin{align}\n",
    "E_{2} = \\rho uv - \\mu \\big( \\frac{u_{i,j+1}-u_{i,j-1}}{2 \\Delta y} + \\frac{v_{i,j}-v_{i-1,j}}{\\Delta x} \\big) \n",
    "\\end{align}$\n",
    "\n",
    "$\\begin{align}\n",
    "E_{3} = \\hspace{0.3em}  &(E_{t}+P)u - \\\\ & u \\bigg( \\lambda \\big(\\frac{ \\textbf{V}_{i,j} - \\textbf{V}_{i-1,j}  } {\\Delta x} + \\frac{ \\textbf{V}_{i,j+1} - \\textbf{V}_{i,j-1}  } {2 \\Delta y} \\big) + 2\\mu \\big( \\frac{u_{i,j}-u_{i-1,j}}{\\Delta x}  \\big) \\bigg) - \\\\ & v \\bigg(  \\mu \\big( \\frac{u_{i,j+1}-u_{i,j-1}}{2 \\Delta y} + \\frac{v_{i,j}-v_{i-1,j}}{\\Delta x} \\big) \\big) + \\\\\n",
    "&\\frac{T_{i,j}-T_{i-1,j}}{\\Delta x}\n",
    "\\end{align}$\n",
    "\n",
    "For the F flux vector, we would have:\n",
    "\n",
    "$\\begin{align}\n",
    "\\frac{\\partial F}{\\partial y} \\approx \\frac{1}{\\Delta y} (F_{i,j+1}-F_{i,j}) \n",
    "\\end{align}$,\n",
    "\n",
    "and the derivatives appearing in F are discretized like this:\n",
    "\n",
    "$\n",
    " \\hspace{1em} F_{0} = \\rho v, \\text{(no derivatives)}\n",
    "$\n",
    "\n",
    "$\n",
    "\\hspace{1em} F_{1} = \\rho uv - \\mu \\big( \\frac{u_{i,j}-u_{i,j-1}}{\\Delta y} + \\frac{v_{i+1,j}-v_{i-1,j}}{2 \\Delta x} \\big) \n",
    "$\n",
    "\n",
    "$\n",
    "\\hspace{1em} F_{2} = \\rho v^{2} + P - \\mu \\big( \\frac{u_{i,j}-u_{i,j-1}}{ \\Delta y} + \\frac{v_{i+1,j}-v_{i-1,j}}{2 \\Delta x} \\big) \n",
    "$\n",
    "\n",
    "$\n",
    "\\hspace{1em} F_{3} = (E_{t}+P)v - u \\mu \\big( \\frac{u_{i,j}-u_{i,j-1}}{ \\Delta y} + \\frac{v_{i+1,j}-v_{i-1,j}}{2 \\Delta x} \\big) - v 2\\mu \\big( \\frac{u_{i,j}-u_{i-1,j}}{\\Delta x}  \\big) - v \\mu \\big( \\frac{u_{i,j+1}-u_{i,j-1}}{2 \\Delta y} + \\frac{v_{i,j} + \\frac{T_{i,j}-T_{i-1,j}}{\\Delta x}\n",
    "$\n",
    "\n",
    "This discretization process is also done for the corrector step, which means that we end up with many functions for calculating the shear and normal stress components. In fact, using this process, we end up with eight different functions for normal and shear stresses, and four different functions for heat fluxes.\n",
    "\n",
    "For further reading on the MacCormack technique, consult the numerical-mooc notebook\n",
    "[\"Convection Schemes\"](https://github.com/numerical-mooc/numerical-mooc/blob/master/lessons/03_wave/03_02_convectionSchemes.ipynb), and Anderson (1995), Chapter 6.3."
   ]
  },
  {
   "cell_type": "markdown",
   "metadata": {},
   "source": [
    "## Computational Domain"
   ]
  },
  {
   "cell_type": "markdown",
   "metadata": {},
   "source": [
    "Obviously, we want a computational domain that accurately captures the shock wave. The dimensions of the the computational domain will depend on the specific problem parameters. Anderson (1995) recommends a Reynolds number of about 1000 to relate the incoming freestream velocity and the plate length. A reasonable choice is to make the plate length the length of the computational x-length:\n",
    "\n",
    "$x_l = L_{plate}$\n",
    "\n",
    "Using the definition of Reynolds number, and assuming we know the freestream values for density, velocity and viscosity, we can find the computational x-length:\n",
    "\n",
    "$Re = \\frac{\\rho u L_{plate}}{\\mu} \\approx 1000$\n",
    "\n",
    "Having established the length of the plate as the computational x-length, the computational y-length is established according to the assumption that a length five times the height of the boundary layer at the trailing edge will be sufficient to capture the shock (Anderson, 1995). The height of the boundary layer at the trailing edge, by Blasius calculation:\n",
    "\n",
    "$\\delta = \\frac{5 L_{plate}}{\\sqrt {Re_L}} $, and\n",
    "\n",
    "$y_l = 5\\delta  $"
   ]
  },
  {
   "cell_type": "markdown",
   "metadata": {},
   "source": [
    "<img src=\"./figures/computational_domain.png\">\n",
    "\n",
    "\n",
    "#### Figure 2. Computational Domain"
   ]
  },
  {
   "cell_type": "markdown",
   "metadata": {},
   "source": [
    "Using this information, we can calculate the x and y spacing between gridpoints:\n",
    "\n",
    "$\\Delta x = \\frac {x_l}{n_{x}-1}$, and\n",
    "$\\Delta y = \\frac {y_l}{n_{y}-1}$,\n",
    "\n",
    "where $n_x$ and $n_y$ are the number of gridpoints in the x and y direction, respectively. For this problem, we can follow the general requirements for choosing the number of gridpoints (Anderson, 1995):\n",
    "\n",
    "$Re_{\\Delta x} = \\frac{\\rho_{i,j} u_{i,j} \\Delta x}{\\mu_{i,j}}, \\hspace{0.5em} Re_{\\Delta x} \\leq 30-40$, and\n",
    "\n",
    "$Re_{\\Delta y} = \\frac{\\rho_{i,j} v_{i,j} \\Delta x}{\\mu_{i,j}}, \\hspace{0.5em} Re_{\\Delta y} \\leq 3-4$."
   ]
  },
  {
   "cell_type": "markdown",
   "metadata": {},
   "source": [
    "## Time Stepping Requirements"
   ]
  },
  {
   "cell_type": "markdown",
   "metadata": {},
   "source": [
    "Because the MacCormack scheme is explicit, we need to employ a stability criterion for the scheme. Using the CFL criterion in Anderson (1995), we can obtain an adaptive time step function:\n",
    "\n",
    "$ \n",
    "\\hspace{3em} (\\Delta tcfl)_{i,j} = \\big( \\frac{|u_{i,j}|}{\\Delta x} + \\frac{|v_{i,j}|}{\\Delta y} + a_{i,j} \\sqrt{\\frac{1}{\\Delta x^2} + \\frac{1}{\\Delta y^2}} + 2v^{'}_{i,j} (\\frac{1}{\\Delta x^2} + \\frac{1}{\\Delta y^2}) \\big)^{-1}\n",
    "$, \n",
    "\n",
    "where\n",
    "\n",
    "$\n",
    "\\hspace{3em} v^{'}_{i,j} = max \\big( \\frac{ \\frac{4}{3} \\mu_{i,j} (\\gamma \\mu_{i,j} / Pr) }{\\rho_{i,j}} \\big)\n",
    "$, \n",
    "\n",
    "and the time step is\n",
    "\n",
    "$\\hspace{4em} \\Delta t = min \\big( K(\\Delta tcfl)_{i,j} \\big)$\n",
    "\n",
    "K is a fudge factor chosen between 0.5 and 0.8 to ensure stability (Anderson, 1995)."
   ]
  },
  {
   "cell_type": "markdown",
   "metadata": {},
   "source": [
    "## Problem Setup"
   ]
  },
  {
   "cell_type": "markdown",
   "metadata": {},
   "source": [
    "Now that we have discussed the governing equations, discretization method, and computational requirements in time and space, we are ready to look at a specific problem.\n",
    "\n",
    "We choose the freestream conditions:\n",
    "\n",
    "* Initial values of air at sea level\n",
    "* Incoming speed of Mach 4\n",
    "\n",
    "At an incoming velocity of Mach 4, using sea level values for density, viscosity and speed of sound, we can obtain the computational x and y dimensions:\n",
    "\n",
    "$x_{l} = \\frac{1000 \\mu}{\\rho u} \\approx 1x10^{-5} meters$\n",
    "\n",
    "$y_{l} = 5\\delta \\approx 8.16x10^{-6} meters$\n",
    "\n",
    "Although the computational domain is small, it is sufficiently large compared ot the mean free path of air molecules (Anderson, 1995). Similarly, satisfying the spacing requirements, we chose the number of gridpoints:\n",
    "\n",
    "$n_x$ = $n_y$ = 70"
   ]
  },
  {
   "cell_type": "markdown",
   "metadata": {},
   "source": [
    "## Initial and  Boundary Conditions"
   ]
  },
  {
   "cell_type": "markdown",
   "metadata": {},
   "source": [
    "Initially, the values of $\\textbf{U}$ are given based on the following initial conditions:\n",
    "\n",
    "* u = 340.28 $\\frac{m}{s}$ x 4 = 1361.12 $\\frac{m}{s}$\n",
    "* v = 0\n",
    "* T = 288.16 K\n",
    "* P = 101325 Pa\n",
    "* $\\rho$ $\\approx$ 1.225 $\\frac{kg}{m^{3}}$\n",
    "\n",
    "These conditions are initialized everywhere except at the the leading edge and plate surface, where\n",
    "\n",
    "* u = v = 0, and\n",
    "* $T_{plate}$ = $T_{wall}$,\n",
    "\n",
    "where $T_{wall}$ is set equal to initial freestream temperature. Figure 3 below shows the application of boundary conditions. Note that in zone 4 the values for the x and y components of velocity, pressure, and temperature are extrapolated for interior points. Generally this is is accomplished as illustrated by the pseudocode:\n",
    "\n",
    "$u_{-1,1:-1} = 2u_{-2,1:-1} - u_{-3,1:-1}$."
   ]
  },
  {
   "cell_type": "markdown",
   "metadata": {},
   "source": [
    "<img src=\"./figures/bc.png\">\n",
    "\n",
    "\n",
    "#### Figure 3. Boundary Conditions"
   ]
  },
  {
   "cell_type": "markdown",
   "metadata": {},
   "source": [
    "## Initial Conditions and Parameters"
   ]
  },
  {
   "cell_type": "code",
   "execution_count": 1,
   "metadata": {
    "collapsed": true
   },
   "outputs": [],
   "source": [
    "import numpy\n",
    "from matplotlib import pyplot    \n",
    "%matplotlib inline\n",
    "from matplotlib import animation\n",
    "from JSAnimation.IPython_display import display_animation\n",
    "\n",
    "#import matplotlib.animation as animation\n",
    "import pylab \n",
    "import types"
   ]
  },
  {
   "cell_type": "code",
   "execution_count": 2,
   "metadata": {
    "collapsed": true
   },
   "outputs": [],
   "source": [
    "# Initial Conditions\n",
    "gamma = 1.4\n",
    "#Velocity\n",
    "M = 4.0 #mach number\n",
    "c_inf = 340.28 #speed of sound m/s\n",
    "u_inf = M*c_inf\n",
    "v_inf = 0.0\n",
    "V_inf = numpy.sqrt(u_inf**2 + v_inf**2 )\n",
    "#\n",
    "R = 287 # J/(kg*K)\n",
    "T_inf = 288.16 #Kelvin\n",
    "P_inf = 101325 #N/m^2\n",
    "rho_inf = P_inf/(R*T_inf)\n",
    "Pr = 0.71 #prandtl no.\n",
    "dyn_visc = 1.7894e-5 #kg/(m*s)\n",
    "lmbda = -(2./3.)*dyn_visc # second viscosity coefficient\n",
    "gamma = 1.4\n",
    "\n",
    "#specific heat\n",
    "cv = R/(gamma-1.)\n",
    "cp = gamma*cv\n",
    "\n",
    "e_inf = cv*T_inf\n",
    "#Boundary Conditions\n",
    "T_wall = T_inf #Kelvin"
   ]
  },
  {
   "cell_type": "code",
   "execution_count": 3,
   "metadata": {
    "collapsed": true
   },
   "outputs": [],
   "source": [
    "# Parameters\n",
    "L = 1e-5 #length of plate\n",
    "\n",
    "Re = (rho_inf*V_inf*L)/dyn_visc\n",
    "\n",
    "#Grid\n",
    "Y = (25*L)/numpy.sqrt(Re)\n",
    "nx = 70 #number of x grid points\n",
    "ny = 70 #number of y grid points \n",
    "\n",
    "#space steps:\n",
    "dx = L/(nx-1)\n",
    "dy = Y/(ny-1)\n",
    "#x = numpy.linspace(0,L,n)"
   ]
  },
  {
   "cell_type": "markdown",
   "metadata": {},
   "source": [
    "### Functions"
   ]
  },
  {
   "cell_type": "code",
   "execution_count": 5,
   "metadata": {
    "collapsed": true
   },
   "outputs": [],
   "source": [
    "def get_Uinitial(numx, numy, rho_fs, ufs, vfs, Vfs, Tfs, efs, Tw, c_v, R):\n",
    "    \"\"\"\n",
    "    Parameters:\n",
    "    -----------\n",
    "    free stream values of:\n",
    "    density, xvel, yvel, vel magnitude, temperature, \n",
    "    internal energy, and wall temperature, and\n",
    "    constant volume spefific heat\n",
    "    R - gas constant\n",
    "    \"\"\"\n",
    "    #---------------------------------------------\n",
    "    U_start = numpy.zeros((4,numx,numy),dtype=float)\n",
    "    #\n",
    "    U_start[0,:,1:] = rho_fs \n",
    "    U_start[0,0,0] = rho_fs #leading edge\n",
    "    U_start[0,1:,0] = (rho_fs*R*Tfs)/(R*Tw) #plate\n",
    "    #\n",
    "    U_start[1,:,1:] = rho_fs*ufs\n",
    "    U_start[1,:,0] = 0.0 #no slip on plate including leading edge\n",
    "    #\n",
    "    U_start[2,:,:] = rho_fs*vfs\n",
    "    U_start[2,:,0] = 0.0 #no slip on plate including leading edge\n",
    "    #\n",
    "    U_start[3,:,1:] = (efs + 0.5*(Vfs**2))*rho_fs\n",
    "    U_start[3,1:,0] = (Tw*c_v)*rho_fs #no slip plate\n",
    "    U_start[3,0,0] = (Tfs*c_v)*rho_fs #no slip plate\n",
    "    \n",
    "    return U_start  "
   ]
  },
  {
   "cell_type": "code",
   "execution_count": 6,
   "metadata": {
    "collapsed": true
   },
   "outputs": [],
   "source": [
    "def get_Temperature(Uv, numx, numy, Tw, Tfs, c_v):\n",
    "    \"\"\"\n",
    "    Parameters\n",
    "    ----------------\n",
    "    Temp - Temeprature in domain\n",
    "    numx - x grid points\n",
    "    numy - y grid points\n",
    "    Tfs - freestream temperature\n",
    "    Tw - plate temperature\n",
    "    c_v - constant volume specific heat\n",
    "    \"\"\"\n",
    "    TT = numpy.zeros((numx,numy))\n",
    "    #\n",
    "    #interior points\n",
    "    TT[1:-1,1:-1] = (1/c_v)*\\\n",
    "                    ((Uv[3,1:-1,1:-1]/Uv[0,1:-1,1:-1]) -\\\n",
    "                     0.5*( (Uv[1,1:-1,1:-1]/Uv[0,1:-1,1:-1])**2 +\\\n",
    "                          (Uv[2,1:-1,1:-1]/Uv[0,1:-1,1:-1])**2 ))\n",
    "    #\n",
    "    #enforce BCS:\n",
    "    TT[1:,0] = Tw  #at plate x-line\n",
    "    TT[0,0] = Tfs #leading edge\n",
    "    TT[:,-1] = Tfs #at top x-line\n",
    "    TT[0,1:] = Tfs  #at inflow y-line\n",
    "    \n",
    "    #at outflow:\n",
    "    TT[-1,1:-1] = 2*TT[-2,1:-1] - TT[-3,1:-1] #at outflow y-line, extrapolate\n",
    "    #\n",
    "    return TT"
   ]
  },
  {
   "cell_type": "code",
   "execution_count": 7,
   "metadata": {
    "collapsed": true
   },
   "outputs": [],
   "source": [
    "def get_visc(Temp, viscfs, Tfs):\n",
    "    \"\"\"\n",
    "    Sutherland's law\n",
    "    ----------------\n",
    "    Temp - Temeprature in domain\n",
    "    viscfs  - freestream viscosity\n",
    "    Tfs - freestream temperature\n",
    "    \"\"\"\n",
    "    v = numpy.zeros_like(Temp)\n",
    "    #\n",
    "    v[:,1:] = viscfs*((Temp[:,1:]/Tfs)**(3./2.))*(Tfs+110.)/(Temp[:,1:]+110)\n",
    "    v[1:,0] = viscfs*((Temp[1:,0]/Tfs)**(3./2.))*(Tfs+110.)/(Temp[1:,0]+110) #plate\n",
    "    v[0,0] = viscfs #leading edge\n",
    "    #\n",
    "    return v"
   ]
  },
  {
   "cell_type": "code",
   "execution_count": 8,
   "metadata": {
    "collapsed": true
   },
   "outputs": [],
   "source": [
    "def get_k(visc, c_p, Prt):\n",
    "    \"\"\"\n",
    "    Parameters\n",
    "    ----------------\n",
    "    visc  - viscosity\n",
    "    c_p - constant pressure specific heat\n",
    "    Prt - Prandtl number\n",
    "    \"\"\"\n",
    "    #\n",
    "    kk = numpy.zeros_like(visc)\n",
    "    kk[:,:] = visc[:,:]*c_p/Prt\n",
    "    #\n",
    "    return kk"
   ]
  },
  {
   "cell_type": "code",
   "execution_count": 9,
   "metadata": {
    "collapsed": true
   },
   "outputs": [],
   "source": [
    "def get_BC(Uv, Temp, numy, rho_fs, Tw, ufs, c_v, Tfs, R):\n",
    "    \"\"\"\n",
    "    Parameters\n",
    "    ----------------\n",
    "    Uv - Vector of density, momentum, and energy values\n",
    "    Temp - Temperature in domain\n",
    "    numy - y grid points\n",
    "    rho_fs - free stream density\n",
    "    Tw - wall temperature\n",
    "    ufs - freestream x velocity\n",
    "    c_v - constant volume specific heat\n",
    "    Tfs - freestream temperature\n",
    "    R - gas constant\n",
    "    \"\"\"\n",
    "    #\n",
    "    Ubc = Uv.copy()\n",
    "    #\n",
    "    #at outflow, u,v, P, and T are extrapolated, then:\n",
    "    uout = numpy.zeros((numy-2))\n",
    "    vout = numpy.zeros((numy-2))\n",
    "    Pout = numpy.zeros((numy-2))\n",
    "    #\n",
    "    uout[:] = 2*Uv[1,-2,1:-1]/Uv[0,-2,1:-1] - Uv[1,-3,1:-1]/Uv[0,-3,1:-1]\n",
    "    vout[:] =  2*Uv[2,-2,1:-1]/Uv[0,-2,1:-1] - Uv[2,-3,1:-1]/Uv[0,-3,1:-1]\n",
    "    Pout[:] = 2*Uv[0,-2,1:-1]*R*Temp[-2,1:-1] - Uv[0,-3,1:-1]*R*Temp[-3,1:-1]\n",
    "    #\n",
    "    Ubc[0,-1,1:-1] = Pout[:]/(R*Temp[-1,1:-1])\n",
    "    Ubc[1,-1,1:-1] = Ubc[0,-1,1:-1] * uout[:]\n",
    "    Ubc[2,-1,1:-1] = Ubc[0,-1,1:-1] * vout[:]\n",
    "    Ubc[3,-1,1:-1] = Ubc[0,-1,1:-1]*(Temp[-1,1:-1]*cv +\\\n",
    "                                     0.5*(uout[:]**2 + vout[:]**2))\n",
    "    \n",
    "    #density\n",
    "    Ubc[0,0,0] = rho_fs #leading edge\n",
    "    Ubc[0,1:,0] = (2*R*Uv[0,1:,1]*Temp[1:,1] -\\\n",
    "                   R*Uv[0,1:,2]*Temp[1:,2])/(R*Tw) #density at plate\n",
    "    Ubc[0,0,1:] = rho_fs #inflow\n",
    "    Ubc[0,1:,-1] = rho_fs #top\n",
    "    #\n",
    "    #x-mom:\n",
    "    Ubc[1,:,0] = 0.0 #plate and leading edge\n",
    "    Ubc[1,0,1:] = rho_fs*ufs #inflow\n",
    "    Ubc[1,1:,-1] = rho_fs*ufs #top\n",
    "    #y-mom:\n",
    "    Ubc[2,:,0] = 0.0 #plate and leading edge\n",
    "    Ubc[2,0,1:] = 0.0 #inflow\n",
    "    Ubc[2,1:,-1] = 0.0 #top\n",
    "    #\n",
    "    #E_total:\n",
    "    Ubc[3,:,0] = rho_fs*(c_v*Tfs) #plate and leading edge\n",
    "    Ubc[3,0,1:] = rho_fs*(c_v*Tfs + 0.5*ufs**2) #inflow\n",
    "    Ubc[3,1:,-1] = rho_fs*(c_v*Tfs + 0.5*ufs**2) #top\n",
    "    #\n",
    "    #\n",
    "    return Ubc"
   ]
  },
  {
   "cell_type": "markdown",
   "metadata": {},
   "source": [
    "## Predictor Functions"
   ]
  },
  {
   "cell_type": "code",
   "execution_count": 10,
   "metadata": {
    "collapsed": false
   },
   "outputs": [],
   "source": [
    "def get_tau_xy_predict(Uv, visc, numx, numy, delx, dely ):\n",
    "    \"\"\"\n",
    "    xy shear stress for E flux predictor step\n",
    "    x-backward difference, y-central difference\n",
    "    Parameters\n",
    "    ----------------\n",
    "    Uv - Vector of density, momentum, and energy values\n",
    "    visc - viscosity in domain\n",
    "    numx - x grid points\n",
    "    numy - y grid points\n",
    "    delx - x direction spacing\n",
    "    dely - y direction spacing\n",
    "    \"\"\"\n",
    "    tau_xy = numpy.zeros((numx,numy))\n",
    "    #\n",
    "    #at plate, exclude leading edge and ouflow point\n",
    "    # i backward and j forward\n",
    "    tau_xy[1:-1,0] = visc[1:-1,0]*\\\n",
    "                    ((Uv[1,1:-1,1]/Uv[0,1:-1,1] - Uv[1,1:-1,0]/Uv[0,1:-1,0])/dely +\\\n",
    "                    (Uv[2,1:-1,0]/Uv[0,1:-1,0] - Uv[2,:-2,0]/Uv[0,:-2,0])/delx)\n",
    "    #\n",
    "    #at inflow, including leading edge, excluding upper boundary:\n",
    "    #i and j forward\n",
    "    tau_xy[0,:-1] = visc[0,:-1]*\\\n",
    "                    ((Uv[1,0,1:]/Uv[0,0,1:] - Uv[1,0,:-1]/Uv[0,0,:-1])/dely +\\\n",
    "                    (Uv[2,1,:-1]/Uv[0,1,:-1] - Uv[2,0,:-1]/Uv[0,0,:-1])/delx)\n",
    "    #\n",
    "    #at upper boundary, excluding outflow point and inflow point:\n",
    "    # i back j back\n",
    "    tau_xy[1:-1,-1] = visc[1:-1,-1]*\\\n",
    "                      ((Uv[1,1:-1,-1]/Uv[0,1:-1,-1] -\\\n",
    "                        Uv[1,1:-1,-2]/Uv[0,1:-1,-2])/dely +\\\n",
    "                      (Uv[2,1:-1,-1]/Uv[0,1:-1,-1] -\\\n",
    "                       Uv[2,:-2,-1]/Uv[0,:-2,-1])/delx)\n",
    "\n",
    "    #inner points:\n",
    "    #i back j central\n",
    "    tau_xy[1:-1,1:-1] = visc[1:-1,1:-1]*\\\n",
    "                       ( (1/(2*dely))*((Uv[1,1:-1,2:]/Uv[0,1:-1,2:])-\\\n",
    "                                       (Uv[1,1:-1,:-2]/Uv[0,1:-1,:-2])) +\\\n",
    "                       (1/delx)*((Uv[2,1:-1,1:-1]/Uv[0,1:-1,1:-1])-\\\n",
    "                                 (Uv[2,:-2,1:-1]/Uv[0,:-2,1:-1])) )\n",
    "    #\n",
    "    #upper inflow\n",
    "    # i forward j backward\n",
    "    tau_xy[0,-1] = visc[0,-1]*((Uv[1,0,-1]/Uv[0,0,-1] -\\\n",
    "                                Uv[1,0,-2]/Uv[0,0,-2])/dely +\\\n",
    "                                   (Uv[2,1,-1]/Uv[0,1,-1] -\\\n",
    "                                    Uv[2,0,-1]/Uv[0,0,-1])/delx)\n",
    "    #\n",
    "    #upper outflow\n",
    "    #i back j back\n",
    "    tau_xy[-1,-1] = visc[-1,-1]*((Uv[1,-1,-1]/Uv[0,-1,-1] -\\\n",
    "                                  Uv[1,-1,-2]/Uv[0,-1,-2])/dely +\\\n",
    "                                   (Uv[2,-1,-1]/Uv[0,-1,-1] -\\\n",
    "                                    Uv[2,-2,-1]/Uv[0,-2,-1])/delx) \n",
    "    #\n",
    "    #outflow:\n",
    "    #i back j central\n",
    "    tau_xy[-1,1:-1] = visc[-1,1:-1]*((Uv[1,-1,2:]/Uv[0,-1,2:] -\\\n",
    "                                      Uv[1,-1,:-2]/Uv[0,-1,:-2])/(2*dely) +\\\n",
    "                                   (Uv[2,-1,1:-1]/Uv[0,-1,1:-1] -\\\n",
    "                                    Uv[2,-2,1:-1]/Uv[0,-2,1:-1])/delx)\n",
    "    #\n",
    "    return tau_xy"
   ]
  },
  {
   "cell_type": "code",
   "execution_count": 11,
   "metadata": {
    "collapsed": true
   },
   "outputs": [],
   "source": [
    "def get_tau_xy_Fpredict(Uv, visc, numx, numy, delx, dely ):\n",
    "    \"\"\"\n",
    "    xy shear stress for F flux predictor step\n",
    "    \n",
    "    y-backward difference, x-central difference\n",
    "    Parameters\n",
    "    ----------------\n",
    "    Uv - Vector of density, momentum, and energy values\n",
    "    visc - viscosity in domain\n",
    "    numx - x grid points\n",
    "    numy - y grid points\n",
    "    delx - x direction spacing\n",
    "    dely - y direction spacing\n",
    "    \"\"\"\n",
    "    tau_xy = numpy.zeros((numx,numy))\n",
    "    #\n",
    "    #at plate, exclude leading edge and ouflow point\n",
    "    # i backward and j forward\n",
    "    tau_xy[1:-1,0] = visc[1:-1,0]*\\\n",
    "                    ((Uv[1,1:-1,1]/Uv[0,1:-1,1] - Uv[1,1:-1,0]/Uv[0,1:-1,0])/dely +\\\n",
    "                    (Uv[2,1:-1,0]/Uv[0,1:-1,0] - Uv[2,:-2,0]/Uv[0,:-2,0])/delx)\n",
    "    #\n",
    "    #at inflow, including leading edge, excluding upper boundary:\n",
    "    #i and j forward\n",
    "    tau_xy[0,:-1] = visc[0,:-1]*\\\n",
    "                    ((Uv[1,0,1:]/Uv[0,0,1:] - Uv[1,0,:-1]/Uv[0,0,:-1])/dely +\\\n",
    "                    (Uv[2,1,:-1]/Uv[0,1,:-1] - Uv[2,0,:-1]/Uv[0,0,:-1])/delx)\n",
    "    #\n",
    "    #at upper boundary, excluding outflow point and inflow point:\n",
    "    # i back j back\n",
    "    tau_xy[1:-1,-1] = visc[1:-1,-1]*\\\n",
    "                      ((Uv[1,1:-1,-1]/Uv[0,1:-1,-1] -\\\n",
    "                        Uv[1,1:-1,-2]/Uv[0,1:-1,-2])/dely +\\\n",
    "                      (Uv[2,1:-1,-1]/Uv[0,1:-1,-1] -\\\n",
    "                       Uv[2,:-2,-1]/Uv[0,:-2,-1])/delx)\n",
    "\n",
    "    #inner points:\n",
    "    #i central j backward\n",
    "    tau_xy[1:-1,1:-1] = visc[1:-1,1:-1]*\\\n",
    "                       ( (1/(dely))*((Uv[1,1:-1,1:-1]/Uv[0,1:-1,1:-1])-\\\n",
    "                                       (Uv[1,1:-1,:-2]/Uv[0,1:-1,:-2])) +\\\n",
    "                       (1/(2*delx))*((Uv[2,2:,1:-1]/Uv[0,2:,1:-1])-\\\n",
    "                                 (Uv[2,:-2,1:-1]/Uv[0,:-2,1:-1])) )\n",
    "    #\n",
    "    #upper inflow\n",
    "    # i forward j backward\n",
    "    tau_xy[0,-1] = visc[0,-1]*((Uv[1,0,-1]/Uv[0,0,-1] -\\\n",
    "                                Uv[1,0,-2]/Uv[0,0,-2])/dely +\\\n",
    "                                   (Uv[2,1,-1]/Uv[0,1,-1] -\\\n",
    "                                    Uv[2,0,-1]/Uv[0,0,-1])/delx)\n",
    "    #\n",
    "    #upper outflow\n",
    "    #i back j back\n",
    "    tau_xy[-1,-1] = visc[-1,-1]*((Uv[1,-1,-1]/Uv[0,-1,-1] -\\\n",
    "                                  Uv[1,-1,-2]/Uv[0,-1,-2])/dely +\\\n",
    "                                   (Uv[2,-1,-1]/Uv[0,-1,-1] -\\\n",
    "                                    Uv[2,-2,-1]/Uv[0,-2,-1])/delx) \n",
    "    #\n",
    "    #outflow:\n",
    "    #i back j central\n",
    "    tau_xy[-1,1:-1] = visc[-1,1:-1]*((Uv[1,-1,2:]/Uv[0,-1,2:] -\\\n",
    "                                      Uv[1,-1,:-2]/Uv[0,-1,:-2])/(2*dely) +\\\n",
    "                                   (Uv[2,-1,1:-1]/Uv[0,-1,1:-1] -\\\n",
    "                                    Uv[2,-2,1:-1]/Uv[0,-2,1:-1])/delx)\n",
    "    #\n",
    "    return tau_xy"
   ]
  },
  {
   "cell_type": "code",
   "execution_count": 12,
   "metadata": {
    "collapsed": true
   },
   "outputs": [],
   "source": [
    "def get_tau_xx_predict(Uv, visc, numx, numy, delx, dely, lmbda):\n",
    "    \"\"\"\n",
    "    xx normal stress for E flux predictor step\n",
    "    x-backward, y-central\n",
    "    \n",
    "    Parameters\n",
    "    ----------------\n",
    "    Uv - Vector of density, momentum, and energy values\n",
    "    visc - viscosity in domain\n",
    "    numx - x grid points\n",
    "    numy - y grid points\n",
    "    delx - x direction spacing\n",
    "    dely - y direction spacing\n",
    "    lmbda - second viscosity\n",
    "    \"\"\"\n",
    "    #velocity magnitude:\n",
    "    V = numpy.zeros_like(Uv)\n",
    "    V = numpy.abs(numpy.sqrt((Uv[1,:,:]/Uv[0,:,:])**2 + (Uv[2,:,:]/Uv[0,:,:])**2 ) )\n",
    "    #\n",
    "    tau_xx = numpy.zeros((numx,numy))\n",
    "    #\n",
    "    #at plate, exclude leading edge and ouflow point\n",
    "    # i backward and j forward\n",
    "    tau_xx[1:-1,0] = lmbda *\\\n",
    "                    ( (V[1:-1,0]-V[:-2,0])/delx + (V[1:-1,1] - V[1:-1,0])/dely ) +\\\n",
    "                     2*visc[1:-1,0]*( Uv[1,1:-1,0]/Uv[0,1:-1,0] -\\\n",
    "                                     Uv[1,:-2,0]/Uv[0,:-2,0] )/delx\n",
    "    #\n",
    "    #at inflow, including leading edge, excluding upper boundary:\n",
    "    #i and j forward\n",
    "    tau_xx[0,:-1] = lmbda *\\\n",
    "                   ( (V[1,:-1]-V[0,:-1])/delx + (V[0,1:] - V[0,:-1])/dely ) +\\\n",
    "                     2*visc[0,:-1]*( Uv[1,1,:-1]/Uv[0,1,:-1] -\\\n",
    "                                    Uv[1,0,:-1]/Uv[0,0,:-1] )/delx\n",
    "    #\n",
    "    #upper boundary, excluding outflow and inflow points:\n",
    "    #i and j backward\n",
    "    tau_xx[1:-1,-1] = lmbda *((V[1:-1,-1]-V[:-2,-1])/delx +\\\n",
    "                              (V[1:-1,-1] - V[1:-1,-2])/dely) +\\\n",
    "                     2*visc[1:-1,-1]*( Uv[1,1:-1,-1]/Uv[0,1:-1,-1] -\\\n",
    "                                      Uv[1,:-2,-1]/Uv[0,:-2,-1] )/delx\n",
    "    #\n",
    "    #inner points\n",
    "    # i backward, j central\n",
    "    tau_xx[1:-1,1:-1] = lmbda*((V[1:-1,1:-1]-V[:-2,1:-1])/delx +\\\n",
    "                               (V[1:-1,2:]-V[1:-1,:-2])/(2*dely))+\\\n",
    "                       (2*visc[1:-1,1:-1]*(1/delx)*\\\n",
    "                        ((Uv[1,1:-1,1:-1]/Uv[0,1:-1,1:-1])-\\\n",
    "                         (Uv[1,:-2,1:-1]/Uv[0,:-2,1:-1])))\n",
    "    #upper inflow\n",
    "    # i forward j backward\n",
    "    tau_xx[0,-1] = lmbda * ( (V[1,-1]-V[0,-1])/delx + (V[0,-1] - V[0,-2])/dely ) +\\\n",
    "                     2*visc[0,-1]*\\\n",
    "                    ( Uv[1,1,-1]/Uv[0,1,-1] - Uv[1,0,-1]/Uv[0,0,-1] )/delx\n",
    "    #\n",
    "    #upper outflow\n",
    "    # i and j back\n",
    "    tau_xx[-1,-1] = lmbda * ( (V[-1,-1]-V[-2,-1])/delx +\\\n",
    "                             (V[-1,-1] - V[-1,-2])/dely ) +\\\n",
    "                     2*visc[-1,-1]*( Uv[1,-1,-1]/Uv[0,-1,-1] -\\\n",
    "                                    Uv[1,-2,-1]/Uv[0,-2,-1])/delx\n",
    "    #\n",
    "    #outflow:\n",
    "    #i back j central\n",
    "    tau_xx[-1,1:-1] = lmbda * ( (V[-1,1:-1]-V[-2,1:-1])/delx +\\\n",
    "                               (V[-1,2:] - V[-1,:-2])/(2*dely) ) +\\\n",
    "                     2*visc[-1,1:-1]*( Uv[1,-1,1:-1]/Uv[0,-1,1:-1] -\\\n",
    "                                      Uv[1,-2,1:-1]/Uv[0,-2,1:-1] )/delx\n",
    "    #\n",
    "    return tau_xx"
   ]
  },
  {
   "cell_type": "code",
   "execution_count": 13,
   "metadata": {
    "collapsed": true
   },
   "outputs": [],
   "source": [
    "def get_tau_yy_predict(Uv, visc, numx, numy, delx, dely, lmbda):\n",
    "    \"\"\"\n",
    "    yy normal stress for F flux predictor step\n",
    "    \n",
    "    Parameters\n",
    "    ----------------\n",
    "    Uv - Vector of density, momentum, and energy values\n",
    "    visc - viscosity in domain\n",
    "    numx - x grid points\n",
    "    numy - y grid points\n",
    "    delx - x direction spacing\n",
    "    dely - y direction spacing\n",
    "    lmbda - second viscosity\n",
    "    \"\"\"\n",
    "    #velocity magnitude:\n",
    "    V = numpy.zeros_like(Uv)\n",
    "    V = numpy.abs(numpy.sqrt((Uv[1,:,:]/Uv[0,:,:])**2 + (Uv[2,:,:]/Uv[0,:,:])**2 ) )\n",
    "    #\n",
    "    tau_yy = numpy.zeros((numx,numy))\n",
    "    #\n",
    "    #at plate, exclude leading edge and ouflow point\n",
    "    # i backward and j forward\n",
    "    tau_yy[1:-1,0] = lmbda * ( (V[1:-1,0]-V[:-2,0])/delx +\\\n",
    "                              (V[1:-1,1] - V[1:-1,0])/dely ) +\\\n",
    "                     2*visc[1:-1,0]*( Uv[2,1:-1,1]/Uv[0,1:-1,1] -\\\n",
    "                                     Uv[2,1:-1,0]/Uv[0,1:-1,0] )/dely\n",
    "    #\n",
    "    #at inflow, including leading edge, excluding upper boundary:\n",
    "    #i and j forward\n",
    "    tau_yy[0,:-1] = lmbda*((V[1,:-1]-V[0,:-1])/delx + (V[0,1:] - V[0,:-1])/dely ) +\\\n",
    "                     2*visc[0,:-1]*( Uv[2,0,1:]/Uv[0,0,1:] -\\\n",
    "                                    Uv[2,0,:-1]/Uv[0,0,:-1] )/dely\n",
    "    #\n",
    "    #upper boundary, excluding outflow and inflow points:\n",
    "    #i and j backward\n",
    "    tau_yy[1:-1,-1] = lmbda*((V[1:-1,-1]-V[:-2,-1])/delx +\\\n",
    "                             (V[1:-1,-1] - V[1:-1,-2])/dely ) +\\\n",
    "                     2*visc[1:-1,-1]*( Uv[2,1:-1,-1]/Uv[0,1:-1,-1] -\\\n",
    "                                      Uv[2,1:-1,-2]/Uv[0,1:-1,-2] )/dely\n",
    "    #\n",
    "    #inner points\n",
    "    # i backward, j central\n",
    "    tau_yy[1:-1,1:-1] = lmbda*((V[1:-1,1:-1]-V[:-2,1:-1])/delx +\\\n",
    "                               (V[1:-1,2:]-V[1:-1,:-2])/(2*dely))+\\\n",
    "                       (2*visc[1:-1,1:-1]*(1/(2*dely))*\\\n",
    "                        ((Uv[2,1:-1,2:]/Uv[0,1:-1,2:])-\\\n",
    "                         (Uv[2,1:-1,:-2]/Uv[0,1:-1,:-2])))\n",
    "    #\n",
    "    #upper inflow\n",
    "    # i forward j backward\n",
    "    tau_yy[0,-1] =  lmbda*( (V[1,-1]-V[0,-1])/delx + (V[0,-1] - V[0,-2])/dely ) +\\\n",
    "                     2*visc[0,-1]*( Uv[2,0,-1]/Uv[0,0,-1] -\\\n",
    "                                   Uv[2,0,-2]/Uv[0,0,-2] )/dely\n",
    "    #upper outflow\n",
    "    # i and j back\n",
    "    tau_yy[-1,-1] = lmbda*((V[-1,-1]-V[-2,-1])/delx + (V[-1,-1] - V[-1,-2])/dely) +\\\n",
    "                     2*visc[-1,-1]*( Uv[2,-1,-1]/Uv[0,-1,-1] -\\\n",
    "                                    Uv[2,-1,-2]/Uv[0,-1,-2] )/dely \n",
    "    #outflow:\n",
    "    #i back j central\n",
    "    tau_yy[-1,1:-1] = lmbda*((V[-1,1:-1]-V[-2,1:-1])/delx +\\\n",
    "                             (V[-1,2:]-V[-1,:-2])/(2*dely))+\\\n",
    "                       (2*visc[-1,1:-1]*(1/(2*dely))*\\\n",
    "                        ((Uv[2,-1,2:]/Uv[0,-1,2:])-(Uv[2,-1,:-2]/Uv[0,-1,:-2])))\n",
    "    return tau_yy"
   ]
  },
  {
   "cell_type": "code",
   "execution_count": 14,
   "metadata": {
    "collapsed": true
   },
   "outputs": [],
   "source": [
    "def get_E_flux_predictor(Uv, numx, numy, delx, visc, Temp, kc, txx, txy, R):\n",
    "    \"\"\"\n",
    "    E flux vector for predictor step\n",
    "    \n",
    "    Parameters\n",
    "    ----------------\n",
    "    Uv - Vector of density, momentum, and energy values\n",
    "    visc - viscosity in domain\n",
    "    numx - x grid points\n",
    "    numy - y grid points\n",
    "    delx - x direction spacing\n",
    "    dely - y direction spacing\n",
    "    Temp - temperature in domain,\n",
    "    kc - thermal conductivity\n",
    "    txx, txy - stresses\n",
    "    R - gas constant\n",
    "    \"\"\"\n",
    "    Ev= numpy.zeros_like(Uv)\n",
    "    qx = numpy.zeros((numx,numy))\n",
    "    #\n",
    "    # x heat flux, i backward\n",
    "    qx[1:,1:-1] = -kc[1:,1:-1]*(Temp[1:,1:-1]-Temp[:-1,1:-1])/delx \n",
    "    #\n",
    "    Ev[0,:,:] = Uv[1,:,:]\n",
    "    Ev[1,:,:] = (Uv[1,:,:]**2)/Uv[0,:,:] + Uv[0,:,:]*R*Temp[:,:] - txx[:]\n",
    "    Ev[2,:,:] = Uv[1,:,:]*Uv[2,:,:]/Uv[0,:,:] - txy[:]\n",
    "    Ev[3,:,:] = (Uv[1,:,:]/Uv[0,:,:])*(Uv[3,:,:] + Uv[0,:,:]*R*Temp[:,:]) -\\\n",
    "                (Uv[1,:,:]/Uv[0,:,:])*txx[:] - (Uv[2,:,:]/Uv[0,:,:])*txy + qx[:,:]\n",
    "    return Ev"
   ]
  },
  {
   "cell_type": "code",
   "execution_count": 15,
   "metadata": {
    "collapsed": true
   },
   "outputs": [],
   "source": [
    "def get_F_flux_predictor(Uv, numx, numy, dely, visc, Temp, kc, txy, tyy, R):\n",
    "    \"\"\"\n",
    "    F flux vector for predictor step\n",
    "    \n",
    "    Parameters\n",
    "    ----------------\n",
    "    Uv - Vector of density, momentum, and energy values\n",
    "    visc - viscosity in domain\n",
    "    numx - x grid points\n",
    "    numy - y grid points\n",
    "    delx - x direction spacing\n",
    "    dely - y direction spacing\n",
    "    Temp - temperature in domain,\n",
    "    kc - thermal conductivity\n",
    "    txx, txy - stresses\n",
    "    R - gas constant\n",
    "    \"\"\"\n",
    "    Fv= numpy.zeros_like(Uv)\n",
    "    qy = numpy.zeros((numx,numy))\n",
    "    #\n",
    "    # y heat flux, j back\n",
    "    qy[1:-1,1:] = -kc[1:-1,1:]*(Temp[1:-1,1:]-Temp[1:-1,:-1])/dely\n",
    "    #\n",
    "    Fv[0,:,:] = Uv[2,:,:]\n",
    "    Fv[1,:,:] = Uv[1,:,:]*Uv[2,:,:]/Uv[0,:,:] - txy[:]\n",
    "    Fv[2,:,:] = (Uv[2,:,:]**2)/Uv[0,:,:] + Uv[0,:,:]*R*Temp[:,:] - txy[:]\n",
    "    Fv[3,:,:] = (Uv[2,:,:]/Uv[0,:,:])*(Uv[3,:,:] + Uv[0,:,:]*R*Temp[:,:]) -\\\n",
    "                (Uv[1,:,:]/Uv[0,:,:])*txy[:] - (Uv[2,:,:]/Uv[0,:,:])*tyy + qy[:,:]\n",
    "    return Fv"
   ]
  },
  {
   "cell_type": "markdown",
   "metadata": {},
   "source": [
    "### Adaptive Time step"
   ]
  },
  {
   "cell_type": "code",
   "execution_count": 16,
   "metadata": {
    "collapsed": false
   },
   "outputs": [],
   "source": [
    "def get_dt(Uv, numx, numy, delx, dely, visc, Temp, gamma, R, Prt):\n",
    "    \"\"\"\n",
    "    Adaptive time step function\n",
    "    \n",
    "    Parameters\n",
    "    ----------------\n",
    "    Uv - Vector of density, momentum, and energy values\n",
    "    visc - viscosity in domain\n",
    "    numx - x grid points\n",
    "    numy - y grid points\n",
    "    delx - x direction spacing\n",
    "    dely - y direction spacing\n",
    "    Temp - temperature in domain,\n",
    "    gamma - ratio of specific heats\n",
    "    R - gas constant\n",
    "    Prt - Prandtl number\n",
    "    \"\"\"\n",
    "    K= 0.6 #fudge factor for time step to ensure stability\n",
    "    #\n",
    "    dt_cfl = numpy.zeros((numx-2,numy-2))\n",
    "    #\n",
    "    dt_cfl[:,:] = ((numpy.abs(Uv[1,1:-1,1:-1]/Uv[0,1:-1,1:-1]))/delx +\\\n",
    "                   (numpy.abs(Uv[2,1:-1,1:-1]/Uv[0,1:-1,1:-1]))/dely +\\\n",
    "                   numpy.sqrt(gamma*R*Temp[1:-1,1:-1])*numpy.sqrt( 1/(delx**2) +\\\n",
    "                                                                  1/(dely**2) ) +\\\n",
    "                   2*numpy.max( ((4/3)*visc[1:-1,1:-1]*\\\n",
    "                                 (gamma*visc[1:-1,1:-1]/Prt))/Uv[0,1:-1,1:-1] )*\\\n",
    "                    ( 1/(delx**2) + 1/(dely**2) ) )**(-1)\n",
    "    #\n",
    "    delt = numpy.min(K*dt_cfl[:,:])\n",
    "    #\n",
    "    return delt"
   ]
  },
  {
   "cell_type": "markdown",
   "metadata": {},
   "source": [
    "## Corrector Functions"
   ]
  },
  {
   "cell_type": "code",
   "execution_count": 17,
   "metadata": {
    "collapsed": true
   },
   "outputs": [],
   "source": [
    "def get_tau_xy_correct(Uv, visc,numx, numy, delx, dely ):\n",
    "    \"\"\"\n",
    "    xy shear stress for E flux corrector step\n",
    "    x-forward difference, y-central difference\n",
    "    \n",
    "    Parameters\n",
    "    ----------------\n",
    "    Uv - Vector of density, momentum, and energy values\n",
    "    visc - viscosity in domain\n",
    "    numx - x grid points\n",
    "    numy - y grid points\n",
    "    delx - x direction spacing\n",
    "    dely - y direction spacing\n",
    "    \"\"\"\n",
    "    tau_xy = numpy.zeros((numx,numy))\n",
    "    #\n",
    "    #at plate, exclude leading edge and ouflow point\n",
    "    # i forward, j forward\n",
    "    tau_xy[1:-1,0] = visc[1:-1,0]*((Uv[1,1:-1,1]/Uv[0,1:-1,1] -\\\n",
    "                                    Uv[1,1:-1,0]/Uv[0,1:-1,0])/dely +\\\n",
    "                                   (Uv[2,2:,0]/Uv[0,2:,0] -\\\n",
    "                                    Uv[2,1:-1,0]/Uv[0,1:-1,0])/delx)\n",
    "    #\n",
    "    #at inflow, including leading edge, excluding upper boundary:\n",
    "    # i forward, j forward\n",
    "    tau_xy[0,:-1] = visc[0,:-1]*((Uv[1,0,1:]/Uv[0,0,1:] -\\\n",
    "                                  Uv[1,0,:-1]/Uv[0,0,:-1])/dely +\\\n",
    "                                   (Uv[2,1,:-1]/Uv[0,1,:-1] -\\\n",
    "                                    Uv[2,0,:-1]/Uv[0,0,:-1])/delx)\n",
    "    #\n",
    "    #at upper boundary, excluding outflow point and inflow point:\n",
    "    # i forward, j backward\n",
    "    tau_xy[1:-1,-1] = visc[1:-1,-1]*((Uv[1,1:-1,-1]/Uv[0,1:-1,-1] -\\\n",
    "                                      Uv[1,1:-1,-2]/Uv[0,1:-1,-2])/dely +\\\n",
    "                                   (Uv[2,2:,-1]/Uv[0,2:,-1] -\\\n",
    "                                    Uv[2,1:-1,-1]/Uv[0,1:-1,-1])/delx)\n",
    "    #\n",
    "    #inner points:\n",
    "    # i forward, j central\n",
    "    tau_xy[1:-1,1:-1] = visc[1:-1,1:-1]*\\\n",
    "                        ((1/(2*dely))*((Uv[1,1:-1,2:]/Uv[0,1:-1,2:])-\\\n",
    "                                       (Uv[1,1:-1,:-2]/Uv[0,1:-1,:-2])) +\\\n",
    "                        (1/delx)*((Uv[2,2:,1:-1]/Uv[0,2:,1:-1])-\\\n",
    "                                  (Uv[2,1:-1,1:-1]/Uv[0,1:-1,1:-1])) )\n",
    "    #upper inflow:\n",
    "    # i forward , j backward\n",
    "    tau_xy[0,-1] = visc[0,-1]*((Uv[1,0,-1]/Uv[0,0,-1] - Uv[1,0,-2]/Uv[0,0,-2])/dely +\\\n",
    "                               (Uv[2,1,-1]/Uv[0,1,-1] - Uv[2,0,-1]/Uv[0,0,-1])/delx)\n",
    "    #upper outflow\n",
    "    ##i back, j back\n",
    "    tau_xy[-1,-1] = visc[-1,-1]*((Uv[1,-1,-1]/Uv[0,-1,-1] -\\\n",
    "                                  Uv[1,-1,-2]/Uv[0,-1,-2])/dely +\\\n",
    "                                   (Uv[2,-1,-1]/Uv[0,-1,-1] -\\\n",
    "                                    Uv[2,-2,-1]/Uv[0,-2,-1])/delx) \n",
    "    #outflow:\n",
    "    # i back, j central\n",
    "    tau_xy[-1,1:-1] = visc[-1,1:-1]*((Uv[1,-1,2:]/Uv[0,-1,2:] -\\\n",
    "                                      Uv[1,-1,:-2]/Uv[0,-1,:-2])/(2*dely) +\\\n",
    "                                   (Uv[2,-1,1:-1]/Uv[0,-1,1:-1] -\\\n",
    "                                    Uv[2,-2,1:-1]/Uv[0,1,1:-1])/delx)\n",
    "    return tau_xy"
   ]
  },
  {
   "cell_type": "code",
   "execution_count": 18,
   "metadata": {
    "collapsed": true
   },
   "outputs": [],
   "source": [
    "def get_tau_xy_Fcorrect(Uv, visc,numx, numy, delx, dely ):\n",
    "    \"\"\"\n",
    "    xy shear stress for F flux corrector step\n",
    "    y-forward difference, x-central difference\n",
    "    \n",
    "    Parameters\n",
    "    ----------------\n",
    "    Uv - Vector of density, momentum, and energy values\n",
    "    visc - viscosity in domain\n",
    "    numx - x grid points\n",
    "    numy - y grid points\n",
    "    delx - x direction spacing\n",
    "    dely - y direction spacing\n",
    "    \"\"\"\n",
    "    tau_xy = numpy.zeros((numx,numy))\n",
    "    #\n",
    "    #at plate, exclude leading edge and ouflow point\n",
    "    # i forward, j forward\n",
    "    tau_xy[1:-1,0] = visc[1:-1,0]*((Uv[1,1:-1,1]/Uv[0,1:-1,1] -\\\n",
    "                                    Uv[1,1:-1,0]/Uv[0,1:-1,0])/dely +\\\n",
    "                                   (Uv[2,2:,0]/Uv[0,2:,0] -\\\n",
    "                                    Uv[2,1:-1,0]/Uv[0,1:-1,0])/delx)\n",
    "    #\n",
    "    #at inflow, including leading edge, excluding upper boundary:\n",
    "    # i forward, j forward\n",
    "    tau_xy[0,:-1] = visc[0,:-1]*((Uv[1,0,1:]/Uv[0,0,1:] -\\\n",
    "                                  Uv[1,0,:-1]/Uv[0,0,:-1])/dely +\\\n",
    "                                   (Uv[2,1,:-1]/Uv[0,1,:-1] -\\\n",
    "                                    Uv[2,0,:-1]/Uv[0,0,:-1])/delx)\n",
    "    #\n",
    "    #at upper boundary, excluding outflow point and inflow point:\n",
    "    # i forward, j backward\n",
    "    tau_xy[1:-1,-1] = visc[1:-1,-1]*((Uv[1,1:-1,-1]/Uv[0,1:-1,-1] -\\\n",
    "                                      Uv[1,1:-1,-2]/Uv[0,1:-1,-2])/dely +\\\n",
    "                                   (Uv[2,2:,-1]/Uv[0,2:,-1] -\\\n",
    "                                    Uv[2,1:-1,-1]/Uv[0,1:-1,-1])/delx)\n",
    "    #\n",
    "    #inner points:\n",
    "    # i central, j forward\n",
    "    tau_xy[1:-1,1:-1] = visc[1:-1,1:-1]*\\\n",
    "                        ((1/dely)*((Uv[1,1:-1,2:]/Uv[0,1:-1,2:])-\\\n",
    "                                       (Uv[1,1:-1,1:-1]/Uv[0,1:-1,1:-1])) +\\\n",
    "                        (1/(2*delx) )*((Uv[2,2:,1:-1]/Uv[0,2:,1:-1])-\\\n",
    "                                  (Uv[2,:-2,1:-1]/Uv[0,:-2,1:-1])) )\n",
    "    #upper inflow:\n",
    "    # i forward , j backward\n",
    "    tau_xy[0,-1] = visc[0,-1]*((Uv[1,0,-1]/Uv[0,0,-1] - Uv[1,0,-2]/Uv[0,0,-2])/dely +\\\n",
    "                               (Uv[2,1,-1]/Uv[0,1,-1] - Uv[2,0,-1]/Uv[0,0,-1])/delx)\n",
    "    #upper outflow\n",
    "    ##i back, j back\n",
    "    tau_xy[-1,-1] = visc[-1,-1]*((Uv[1,-1,-1]/Uv[0,-1,-1] -\\\n",
    "                                  Uv[1,-1,-2]/Uv[0,-1,-2])/dely +\\\n",
    "                                   (Uv[2,-1,-1]/Uv[0,-1,-1] -\\\n",
    "                                    Uv[2,-2,-1]/Uv[0,-2,-1])/delx) \n",
    "    #outflow:\n",
    "    # i back, j central\n",
    "    tau_xy[-1,1:-1] = visc[-1,1:-1]*((Uv[1,-1,2:]/Uv[0,-1,2:] -\\\n",
    "                                      Uv[1,-1,:-2]/Uv[0,-1,:-2])/(2*dely) +\\\n",
    "                                   (Uv[2,-1,1:-1]/Uv[0,-1,1:-1] -\\\n",
    "                                    Uv[2,-2,1:-1]/Uv[0,1,1:-1])/delx)\n",
    "    return tau_xy"
   ]
  },
  {
   "cell_type": "code",
   "execution_count": 19,
   "metadata": {
    "collapsed": true
   },
   "outputs": [],
   "source": [
    "def get_tau_xx_correct(Uv, visc, numx, numy, delx, dely, lmbda):\n",
    "    \"\"\"\n",
    "    xx normal stress for E flux corrector step\n",
    "    x-forward, y-central\n",
    "    \n",
    "    Parameters\n",
    "    ----------------\n",
    "    Uv - Vector of density, momentum, and energy values\n",
    "    visc - viscosity in domain\n",
    "    numx - x grid points\n",
    "    numy - y grid points\n",
    "    delx - x direction spacing\n",
    "    dely - y direction spacing\n",
    "    lmbda - second viscosity\n",
    "    \"\"\"\n",
    "    #velocity magnitude:\n",
    "    V = numpy.zeros_like(Uv)\n",
    "    V = numpy.abs(numpy.sqrt((Uv[1,:,:]/Uv[0,:,:])**2 + (Uv[2,:,:]/Uv[0,:,:])**2 ) )\n",
    "    #\n",
    "    tau_xx = numpy.zeros((numx,numy))\n",
    "    #at plate, exclude leading edge and ouflow point\n",
    "    # i forward, j forward\n",
    "    tau_xx[1:-1,0] = lmbda * ( (V[2:,0]-V[1:-1,0])/delx +\\\n",
    "                              (V[1:-1,1] - V[1:-1,0])/dely ) +\\\n",
    "                     2*visc[1:-1,0]*( Uv[1,2:,0]/Uv[0,2:,0] -\\\n",
    "                                     Uv[1,1:-1,0]/Uv[0,1:-1,0] )/delx\n",
    "    #at inflow, including leading edge, excluding upper boundary:\n",
    "    # i forward, j forward\n",
    "    tau_xx[0,:-1] = lmbda*((V[1,:-1]-V[0,:-1])/delx + (V[0,1:] - V[0,:-1])/dely ) +\\\n",
    "                     2*visc[0,:-1]*( Uv[1,1,:-1]/Uv[0,1,:-1] -\\\n",
    "                                    Uv[1,0,:-1]/Uv[0,0,:-1] )/delx\n",
    "    #upper boundary, excluding outflow and inflow points:\n",
    "    # i forward, j backward\n",
    "    tau_xx[1:-1,-1] = lmbda*((V[2:,-1]-V[1:-1,-1])/delx +\\\n",
    "                             (V[1:-1,-1] - V[1:-1,-2])/dely ) +\\\n",
    "                     2*visc[1:-1,-1]*( Uv[1,2:,-1]/Uv[0,2:,-1] -\\\n",
    "                                      Uv[1,1:-1,-1]/Uv[0,1:-1,-1] )/delx\n",
    "    #inner points\n",
    "    # i forward, j central\n",
    "    tau_xx[1:-1,1:-1] = lmbda*((V[2:,1:-1]-V[1:-1,1:-1])/delx +\\\n",
    "                               (V[1:-1,2:]-V[1:-1,:-2])/(2*dely))+\\\n",
    "                       (2*visc[1:-1,1:-1]*\\\n",
    "                        (1/delx)*((Uv[1,2:,1:-1]/Uv[0,2:,1:-1])-\\\n",
    "                                  (Uv[1,1:-1,1:-1]/Uv[0,1:-1,1:-1])))\n",
    "    #upper inflow\n",
    "    # i forward, j backward\n",
    "    tau_xx[0,-1] = lmbda * ( (V[1,-1]-V[0,-1])/delx +\\\n",
    "                            (V[0,-1] - V[0,-2])/dely ) +\\\n",
    "                     2*visc[0,-1]*( Uv[1,1,-1]/Uv[0,1,-1] -\\\n",
    "                                   Uv[1,0,-1]/Uv[0,0,-1] )/delx\n",
    "    #upper outflow\n",
    "    # i and j back\n",
    "    tau_xx[-1,-1] = lmbda*((V[-1,-1]-V[-2,-1])/delx + (V[-1,-1] - V[-1,-2])/dely) +\\\n",
    "                     2*visc[-1,-1]*( Uv[1,-1,-1]/Uv[0,-1,-1] -\\\n",
    "                                    Uv[1,-2,-1]/Uv[0,-2,-1])/delx\n",
    "    #outflow:\n",
    "    #i back j central\n",
    "    tau_xx[-1,1:-1] = lmbda * ( (V[-1,1:-1]-V[-2,1:-1])/delx +\\\n",
    "                               (V[-1,2:] - V[-1,:-2])/(2*dely) ) +\\\n",
    "                     2*visc[-1,1:-1]*( Uv[1,-1,1:-1]/Uv[0,-1,1:-1] -\\\n",
    "                                      Uv[1,-2,1:-1]/Uv[0,-2,1:-1] )/delx\n",
    "    return tau_xx"
   ]
  },
  {
   "cell_type": "code",
   "execution_count": 20,
   "metadata": {
    "collapsed": true
   },
   "outputs": [],
   "source": [
    "def get_tau_yy_correct(Uv, visc, numx, numy, delx, dely, lmbda):\n",
    "    \"\"\"\n",
    "    yy normal stress for F flux predictor step\n",
    "    y-forward, x-central\n",
    "    \n",
    "    Parameters\n",
    "    ----------------\n",
    "    Uv - Vector of density, momentum, and energy values\n",
    "    visc - viscosity in domain\n",
    "    numx - x grid points\n",
    "    numy - y grid points\n",
    "    delx - x direction spacing\n",
    "    dely - y direction spacing\n",
    "    lmbda - second viscosity\n",
    "    \"\"\"\n",
    "        #velocity magnitude:\n",
    "    V = numpy.zeros_like(Uv)\n",
    "    V = numpy.abs(numpy.sqrt((Uv[1,:,:]/Uv[0,:,:])**2 + (Uv[2,:,:]/Uv[0,:,:])**2))\n",
    "    #\n",
    "    tau_yy = numpy.zeros((numx,numy))\n",
    "    #\n",
    "    #at plate, exclude leading edge and ouflow point\n",
    "    tau_yy[1:-1,0] = lmbda*((V[2:,0]-V[1:-1,0])/delx + (V[1:-1,1] - V[1:-1,0])/dely ) +\\\n",
    "                     2*visc[1:-1,0]*( Uv[2,1:-1,1]/Uv[0,1:-1,1] -\\\n",
    "                                     Uv[2,1:-1,0]/Uv[0,1:-1,0] )/dely\n",
    "    #\n",
    "    #at inflow, including leading edge, excluding upper boundary:\n",
    "    tau_yy[0,:-1] = lmbda*((V[1,:-1]-V[0,:-1])/delx + (V[0,1:] - V[0,:-1])/dely ) +\\\n",
    "                     2*visc[0,:-1]*( Uv[2,0,1:]/Uv[0,0,1:] -\\\n",
    "                                    Uv[2,0,:-1]/Uv[0,0,:-1] )/dely\n",
    "    #\n",
    "    #upper boundary, excluding outflow and inflow points:\n",
    "    tau_yy[1:-1,-1] = lmbda * ((V[2:,-1]-V[1:-1,-1])/delx +\\\n",
    "                               (V[1:-1,-1] - V[1:-1,-2])/dely ) +\\\n",
    "                     2*visc[1:-1,-1]*( Uv[2,1:-1,-1]/Uv[0,1:-1,-1] -\\\n",
    "                                      Uv[2,1:-1,-2]/Uv[0,1:-1,-2] )/dely\n",
    "    #\n",
    "    #inner points\n",
    "    #i central, j forward\n",
    "    tau_yy[1:-1,1:-1] = lmbda*((V[2:,1:-1]-V[:-2,1:-1])/(2*delx) +\\\n",
    "                               (V[1:-1,2:]-V[1:-1,1:-1])/(dely))+\\\n",
    "                       (2*visc[1:-1,1:-1]*\\\n",
    "                        (1/dely)*((Uv[2,1:-1,2:]/Uv[0,1:-1,2:])-\\\n",
    "                                      (Uv[2,1:-1,1:-1]/Uv[0,1:-1,1:-1])))\n",
    "    #\n",
    "    tau_yy[0,-1] =  lmbda*((V[1,-1]-V[0,-1])/delx + (V[0,-1] - V[0,-2])/dely ) +\\\n",
    "                     2*visc[0,-1]*( Uv[2,0,-1]/Uv[0,0,-1] -\\\n",
    "                                   Uv[2,0,-2]/Uv[0,0,-2] )/dely\n",
    "    #\n",
    "    tau_yy[-1,-1] = lmbda*((V[-1,-1]-V[-2,-1])/delx + (V[-1,-1] - V[-1,-2])/dely) +\\\n",
    "                     2*visc[-1,-1]*( Uv[2,-1,-1]/Uv[0,-1,-1] -\\\n",
    "                                    Uv[2,-1,-2]/Uv[0,-1,-2] )/dely \n",
    "    #outflow:\n",
    "    tau_yy[-1,1:-1] = lmbda*((V[-1,1:-1]-V[-2,1:-1])/delx +\\\n",
    "                             (V[-1,2:]-V[-1,:-2])/(2*dely))-\\\n",
    "                       (2*visc[-1,1:-1]*\\\n",
    "                        (1/(2*dely))*((Uv[2,-1,2:]/Uv[0,-1,2:])-\\\n",
    "                                      (Uv[2,-1,:-2]/Uv[0,-1,:-2])))\n",
    "    return tau_yy"
   ]
  },
  {
   "cell_type": "code",
   "execution_count": 21,
   "metadata": {
    "collapsed": true
   },
   "outputs": [],
   "source": [
    "def get_E_flux_correct(Uv, numx, numy, delx, visc, Temp, kc, txx, txy, R):\n",
    "    \"\"\"\n",
    "    E flux vector for corrector step\n",
    "    \n",
    "    Parameters\n",
    "    ----------------\n",
    "    Uv - Vector of density, momentum, and energy values\n",
    "    visc - viscosity in domain\n",
    "    numx - x grid points\n",
    "    numy - y grid points\n",
    "    delx - x direction spacing\n",
    "    dely - y direction spacing\n",
    "    Temp - temperature in domain,\n",
    "    kc - thermal conductivity\n",
    "    txx, txy - stresses\n",
    "    R - gas constant\n",
    "    \"\"\"\n",
    "    Ev= numpy.zeros_like(Uv)\n",
    "    qx = numpy.zeros((numx,numy))\n",
    "    qx[:-1,1:-1] = -kc[:-1,1:-1]*(Temp[1:,1:-1]-Temp[:-1,1:-1])/delx\n",
    "    #\n",
    "    Ev[0,:,:] = Uv[1,:,:]\n",
    "    Ev[1,:,:] = (Uv[1,:,:]**2)/Uv[0,:,:] + Uv[0,:,:]*R*Temp[:,:] - txx[:]\n",
    "    Ev[2,:,:] = Uv[1,:,:]*Uv[2,:,:]/Uv[0,:,:] - txy[:]\n",
    "    Ev[3,:,:] = (Uv[1,:,:]/Uv[0,:,:])*(Uv[3,:,:] + Uv[0,:,:]*R*Temp[:,:]) -\\\n",
    "                (Uv[1,:,:]/Uv[0,:,:])*txx[:] - (Uv[2,:,:]/Uv[0,:,:])*txy + qx[:,:]\n",
    "    return Ev"
   ]
  },
  {
   "cell_type": "code",
   "execution_count": 22,
   "metadata": {
    "collapsed": true
   },
   "outputs": [],
   "source": [
    "def get_F_flux_correct(Uv, numx, numy, dely, visc, Temp, kc, txy, tyy, R):\n",
    "    \"\"\"\n",
    "    F flux vector for corrector step\n",
    "    \n",
    "    Parameters\n",
    "    ----------------\n",
    "    Uv - Vector of density, momentum, and energy values\n",
    "    visc - viscosity in domain\n",
    "    numx - x grid points\n",
    "    numy - y grid points\n",
    "    delx - x direction spacing\n",
    "    dely - y direction spacing\n",
    "    Temp - temperature in domain,\n",
    "    kc - thermal conductivity\n",
    "    txx, txy - stresses\n",
    "    R - gas constant\n",
    "    \"\"\"\n",
    "    Fv= numpy.zeros_like(Uv)\n",
    "    qy = numpy.zeros((numx,numy))\n",
    "    qy[1:-1,:-1] = -kc[1:-1,:-1]*(Temp[1:-1,1:]-Temp[1:-1,:-1])/dely\n",
    "    #\n",
    "    Fv[0,:,:] = Uv[2,:,:]\n",
    "    Fv[1,:,:] = Uv[1,:,:]*Uv[2,:,:]/Uv[0,:,:] - txy[:]\n",
    "    Fv[2,:,:] = (Uv[2,:,:]**2)/Uv[0,:,:] + Uv[0,:,:]*R*Temp[:,:] - txy[:]\n",
    "    Fv[3,:,:] = (Uv[2,:,:]/Uv[0,:,:])*(Uv[3,:,:] + Uv[0,:,:]*R*Temp[:,:]) -\\\n",
    "                (Uv[1,:,:]/Uv[0,:,:])*txy[:] - (Uv[2,:,:]/Uv[0,:,:])*tyy + qy[:,:]\n",
    "    return Fv"
   ]
  },
  {
   "cell_type": "markdown",
   "metadata": {},
   "source": [
    "## Solve"
   ]
  },
  {
   "cell_type": "code",
   "execution_count": 23,
   "metadata": {
    "collapsed": false
   },
   "outputs": [],
   "source": [
    "def maccormack(U_init,numt,numx,numy,delx,dely,Tw,Tfs,rho_fs,ufs,c_v,c_p,viscfs,Prt,lmbda,R,gamma):\n",
    "    \"\"\"\n",
    "    Parameters:\n",
    "    -----------\n",
    "    \"\"\"\n",
    "    Un = numpy.zeros((numt+1,4,numx,numy))\n",
    "    Un[0,:,:,:] = U_init.copy()\n",
    "    #\n",
    "    U = U_init.copy()\n",
    "    #\n",
    "    Us = U_init.copy()\n",
    "    #\n",
    "    uout = numpy.zeros((numy-2))\n",
    "    vout = numpy.zeros((numy-2))\n",
    "    Pout = numpy.zeros((numy-2))\n",
    "    #\n",
    "    for t in range(1,numt+1):\n",
    "        #----\n",
    "        #get properties to calculate fluxes:\n",
    "        T = get_Temperature(U, numx, numy, Tw, Tfs, c_v)\n",
    "        mu = get_visc(T, viscfs, Tfs)\n",
    "        k = get_k(mu, c_p, Prt)\n",
    "        #----\n",
    "        #get shear:\n",
    "        t_xyE = get_tau_xy_predict(U, mu, numx, numy, delx, dely )\n",
    "        t_xyF = get_tau_xy_Fpredict(U, mu, numx, numy, delx, dely )\n",
    "        t_xx = get_tau_xx_predict(U, mu, numx, numy, delx, dely, lmbda)\n",
    "        t_yy = get_tau_yy_predict(U, mu, numx, numy, delx, dely, lmbda)\n",
    "        #---\n",
    "        #calculate fluxes E, F:\n",
    "        E = get_E_flux_predictor(U, numx, numy, delx, mu, T, k, t_xx, t_xyE, R)\n",
    "        F = get_F_flux_predictor(U, numx, numy, dely, mu, T, k, t_xyF, t_yy, R)\n",
    "        #---\n",
    "        #dt:\n",
    "        dt = get_dt(U, numx, numy, delx, dely, mu, T, gamma, R, Prt)\n",
    "        #print(dt)\n",
    "        #-----\n",
    "        #Predictor Step:\n",
    "        Us[:,1:-1,1:-1] = U[:,1:-1,1:-1] -\\\n",
    "                          (dt/delx)*(E[:,2:,1:-1] - E[:,1:-1,1:-1]) -\\\n",
    "                          (dt/dely)*(F[:,1:-1,2:] - F[:,1:-1,1:-1])\n",
    "        Ustar = get_BC(Us, T, numy, rho_fs, Tw, ufs, c_v, Tfs, R)\n",
    "        #----\n",
    "        #update properties:\n",
    "        T2 = get_Temperature(Ustar, numx, numy, Tw, Tfs, c_v)\n",
    "        mu2 = get_visc(T2, viscfs, Tfs)\n",
    "        k2 = get_k(mu2, c_p, Prt)\n",
    "        #update shear:\n",
    "        t_xyE2 = get_tau_xy_correct(Ustar,mu2,numx, numy, delx, dely)\n",
    "        t_xyF2 = get_tau_xy_Fcorrect(Ustar,mu2,numx, numy, delx, dely)\n",
    "        t_xx2 = get_tau_xx_correct(Ustar, mu2, numx, numy, delx, dely, lmbda)\n",
    "        t_yy2 = get_tau_yy_correct(Ustar, mu2, numx, numy, delx, dely, lmbda)\n",
    "        #update fluxes:\n",
    "        E2 = get_E_flux_correct(Ustar, numx, numy, delx, mu2, T2, k2, t_xx2, t_xyE2, R)\n",
    "        F2 = get_F_flux_correct(Ustar, numx, numy, dely, mu2, T2, k2, t_xyF2, t_yy2, R)\n",
    "        #----\n",
    "        #corrector step:\n",
    "        Un[t,:,1:-1,1:-1] = 0.5*( U[:,1:-1,1:-1] + Ustar[:,1:-1,1:-1] -\\\n",
    "                               (dt/delx)*(E2[:,1:-1,1:-1]-E2[:,:-2,1:-1]) -\\\n",
    "                               (dt/dely)*(F2[:,1:-1,1:-1]-F2[:,1:-1,:-2] ))\n",
    "\n",
    "        #Boundary Conditions\n",
    "        #density\n",
    "        Un[t,0,0,0] = rho_fs #leading edge\n",
    "        Un[t,0,1:-1,0] = (2*R*Un[t,0,1:-1,1]*T2[1:-1,1] -\\\n",
    "                        R*Un[t,0,1:-1,2]*T2[1:-1,2])/(R*Tw) #density at plate excluding i=-1\n",
    "        Un[t,0,0,1:] = rho_fs #inflow\n",
    "        Un[t,0,1:,-1] = rho_fs #top\n",
    "        #\n",
    "        #x-mom:\n",
    "        Un[t,1,:,0] = 0.0 #plate and leading edge\n",
    "        Un[t,1,0,1:] = rho_fs*ufs #inflow\n",
    "        Un[t,1,1:,-1] = rho_inf*ufs #top\n",
    "        #\n",
    "        #y-mom:\n",
    "        Un[t,2,:,0] = 0.0 #plate and leading edge\n",
    "        Un[t,2,0,1:] = 0.0 #inflow\n",
    "        Un[t,2,1:,-1] = 0.0 #top\n",
    "        #\n",
    "        #E_total:\n",
    "        Un[t,3,0,0] = rho_fs*(c_v*Tfs) #leading edge\n",
    "        Un[t,3,1:,0] = Un[t,0,1:,0]*(c_v*Tw) #plate \n",
    "        Un[t,3,0,1:] = rho_fs*(c_v*Tfs + 0.5*ufs**2) #inflow\n",
    "        Un[t,3,1:,-1] = rho_fs*(c_v*Tfs + 0.5*ufs**2) #top\n",
    "        #\n",
    "        #at outflow, u,v, P, and T are extrapolated, then:\n",
    "        #\n",
    "        uout[:] = 2*Un[t,1,-2,1:-1]/Un[t,0,-2,1:-1] -\\\n",
    "                    Un[t,1,-3,1:-1]/Un[t,0,-3,1:-1]\n",
    "        vout[:] =  2*Un[t,2,-2,1:-1]/Un[t,0,-2,1:-1] -\\\n",
    "                    Un[t,2,-3,1:-1]/Un[t,0,-3,1:-1]\n",
    "        Pout[:] = 2*Un[t,0,-2,1:-1]*R*T2[-2,1:-1] -\\\n",
    "                    Un[t,0,-3,1:-1]*R*T2[-3,1:-1]\n",
    "        #\n",
    "        Un[t,0,-1,1:-1] = Pout[:]/(R*T2[-1,1:-1])\n",
    "        Un[t,1,-1,1:-1] = Un[t,0,-1,1:-1] * uout[:]\n",
    "        Un[t,2,-1,1:-1] = Un[t,0,-1,1:-1] * vout[:]\n",
    "        Un[t,3,-1,1:-1] = Un[t,0,-1,1:-1]*(T2[-1,1:-1]*c_v +\\\n",
    "                                           0.5*(uout[:]**2 + vout[:]**2))\n",
    "        #\n",
    "        Un[t,0,-1,0] = (2*Un[t,0,-1,1]*R*T2[-1,1] - Un[t,0,-1,2]*R*T2[-1,2])/(R*Tw)\n",
    "        #\n",
    "        U = Un[t,:,:,:].copy()\n",
    "         \n",
    "    return Un"
   ]
  },
  {
   "cell_type": "code",
   "execution_count": 24,
   "metadata": {
    "collapsed": false
   },
   "outputs": [],
   "source": [
    "UU = get_Uinitial(nx, ny, rho_inf, u_inf, v_inf, V_inf, T_inf, e_inf, T_wall, cv, R)"
   ]
  },
  {
   "cell_type": "code",
   "execution_count": 25,
   "metadata": {
    "collapsed": false
   },
   "outputs": [],
   "source": [
    "US = maccormack(UU,5001,nx,ny,dx,dy,T_wall,\\\n",
    "                T_inf,rho_inf,u_inf,cv,cp,dyn_visc,Pr,lmbda,R,gamma)"
   ]
  },
  {
   "cell_type": "markdown",
   "metadata": {},
   "source": [
    "## Post-Processing"
   ]
  },
  {
   "cell_type": "code",
   "execution_count": 26,
   "metadata": {
    "collapsed": false
   },
   "outputs": [],
   "source": [
    "x = numpy.linspace(0,L,nx)\n",
    "y = numpy.linspace(0,Y,ny)\n",
    "mx, my = numpy.meshgrid(x,y)"
   ]
  },
  {
   "cell_type": "markdown",
   "metadata": {},
   "source": [
    "Here we look at the steady state, converged, solution. Anderson [1995] suggests that the solution is converged once the density at each grid point changes no less than $1*10^{-8}$ between time steps. "
   ]
  },
  {
   "cell_type": "code",
   "execution_count": 27,
   "metadata": {
    "collapsed": false
   },
   "outputs": [
    {
     "data": {
      "text/plain": [
       "(array([], dtype=int64), array([], dtype=int64))"
      ]
     },
     "execution_count": 27,
     "metadata": {},
     "output_type": "execute_result"
    }
   ],
   "source": [
    "numpy.where((US[2500,0,:,:] - US[2499,0,:,:]) > 1e-8)"
   ]
  },
  {
   "cell_type": "markdown",
   "metadata": {},
   "source": [
    "This code shows that the solution is converged. Another subroutine that can be added is a built-in convergence check."
   ]
  },
  {
   "cell_type": "markdown",
   "metadata": {},
   "source": [
    "### Pressure Profile at surface (plate)"
   ]
  },
  {
   "cell_type": "code",
   "execution_count": 28,
   "metadata": {
    "collapsed": true
   },
   "outputs": [],
   "source": [
    "Uf = US[-1,:,:,:].copy()"
   ]
  },
  {
   "cell_type": "code",
   "execution_count": 29,
   "metadata": {
    "collapsed": false
   },
   "outputs": [],
   "source": [
    "Tf = get_Temperature(Uf, nx, ny, T_wall, T_inf, cv)"
   ]
  },
  {
   "cell_type": "code",
   "execution_count": 30,
   "metadata": {
    "collapsed": true
   },
   "outputs": [],
   "source": [
    "def get_Pressure(Uv, Temp):\n",
    "    P = numpy.zeros((nx,ny))\n",
    "    P[:,:] = Uv[0,:,:]*R*Temp[:,:]\n",
    "    return P"
   ]
  },
  {
   "cell_type": "code",
   "execution_count": 31,
   "metadata": {
    "collapsed": false
   },
   "outputs": [],
   "source": [
    "Pf = get_Pressure(Uf, Tf) #pressure at converged solution"
   ]
  },
  {
   "cell_type": "code",
   "execution_count": 32,
   "metadata": {
    "collapsed": false
   },
   "outputs": [
    {
     "data": {
      "image/png": "[encoded data removed]",
      "text/plain": [
       "<matplotlib.figure.Figure at 0x108d19978>"
      ]
     },
     "metadata": {},
     "output_type": "display_data"
    }
   ],
   "source": [
    "pyplot.plot(x, Pf[:,0]/P_inf )\n",
    "pyplot.ylabel('P\\Pinf ')\n",
    "pyplot.xlabel('Plate (m)') \n",
    "pyplot.title('Non-Dimensional Surface Pressure at Converged Solution');"
   ]
  },
  {
   "cell_type": "markdown",
   "metadata": {},
   "source": [
    "### Momentum and Energy Contour Plots at Converged Solution"
   ]
  },
  {
   "cell_type": "markdown",
   "metadata": {},
   "source": [
    "Note that the x-distance is (meters):"
   ]
  },
  {
   "cell_type": "code",
   "execution_count": 33,
   "metadata": {
    "collapsed": false
   },
   "outputs": [
    {
     "data": {
      "text/plain": [
       "1e-05"
      ]
     },
     "execution_count": 33,
     "metadata": {},
     "output_type": "execute_result"
    }
   ],
   "source": [
    "L"
   ]
  },
  {
   "cell_type": "markdown",
   "metadata": {},
   "source": [
    "and the y-distance is (meters)"
   ]
  },
  {
   "cell_type": "code",
   "execution_count": 34,
   "metadata": {
    "collapsed": false
   },
   "outputs": [
    {
     "data": {
      "text/plain": [
       "8.189266555235584e-06"
      ]
     },
     "execution_count": 34,
     "metadata": {},
     "output_type": "execute_result"
    }
   ],
   "source": [
    "Y"
   ]
  },
  {
   "cell_type": "markdown",
   "metadata": {},
   "source": [
    "Anderson[1995] states that althought we choose a length of plate this small, it is still large enough in comparison to the mean free path of air molecules, and sufficient to capture the shock."
   ]
  },
  {
   "cell_type": "markdown",
   "metadata": {},
   "source": [
    "### X-momentum"
   ]
  },
  {
   "cell_type": "code",
   "execution_count": 35,
   "metadata": {
    "collapsed": false
   },
   "outputs": [
    {
     "data": {
      "image/png": "[encoded data removed]",
      "text/plain": [
       "<matplotlib.figure.Figure at 0x108d86b00>"
      ]
     },
     "metadata": {},
     "output_type": "display_data"
    }
   ],
   "source": [
    "pyplot.figure(figsize=(8,5))\n",
    "pyplot.contourf(my,mx,US[-1,1,:,:])\n",
    "pyplot.xticks([]), pyplot.yticks([])\n",
    "pyplot.xlabel('$Plate (m)$')\n",
    "pyplot.ylabel('$Height (m)$')\n",
    "pyplot.colorbar()\n",
    "pyplot.title('x-momentum (kg / (m^2 s) )');"
   ]
  },
  {
   "cell_type": "markdown",
   "metadata": {},
   "source": [
    "### Y-momentum"
   ]
  },
  {
   "cell_type": "code",
   "execution_count": 36,
   "metadata": {
    "collapsed": false
   },
   "outputs": [
    {
     "data": {
      "image/png": "[encoded data removed]",
      "text/plain": [
       "<matplotlib.figure.Figure at 0x137d42dd8>"
      ]
     },
     "metadata": {},
     "output_type": "display_data"
    }
   ],
   "source": [
    "pyplot.figure(figsize=(8,5))\n",
    "pyplot.contourf(my,mx,US[-1,2,:,:])\n",
    "pyplot.xticks([]), pyplot.yticks([])\n",
    "pyplot.xlabel('$Plate (m)$')\n",
    "pyplot.ylabel('$Height (m)$')\n",
    "pyplot.colorbar()\n",
    "pyplot.title('y-momentum (kg / (m^2 s) )');"
   ]
  },
  {
   "cell_type": "markdown",
   "metadata": {},
   "source": [
    "### Total Energy"
   ]
  },
  {
   "cell_type": "code",
   "execution_count": 37,
   "metadata": {
    "collapsed": false
   },
   "outputs": [
    {
     "data": {
      "image/png": "[encoded data removed]",
      "text/plain": [
       "<matplotlib.figure.Figure at 0x137a78588>"
      ]
     },
     "metadata": {},
     "output_type": "display_data"
    }
   ],
   "source": [
    "pyplot.figure(figsize=(8,5))\n",
    "pyplot.contourf(my,mx,US[-1,3,:,:])\n",
    "pyplot.xticks([]), pyplot.yticks([])\n",
    "pyplot.xlabel('$Plate (m)$')\n",
    "pyplot.ylabel('$Height (m)$')\n",
    "pyplot.colorbar()\n",
    "pyplot.title('Total Energy (Joules)');"
   ]
  },
  {
   "cell_type": "markdown",
   "metadata": {},
   "source": [
    "### Outflow Pressure vs Non-dimensional y-distance"
   ]
  },
  {
   "cell_type": "code",
   "execution_count": 38,
   "metadata": {
    "collapsed": true
   },
   "outputs": [],
   "source": [
    "?get_k"
   ]
  },
  {
   "cell_type": "code",
   "execution_count": 39,
   "metadata": {
    "collapsed": false
   },
   "outputs": [],
   "source": [
    "muf = get_visc(Tf, cp, Pr)"
   ]
  },
  {
   "cell_type": "code",
   "execution_count": 40,
   "metadata": {
    "collapsed": true
   },
   "outputs": [],
   "source": [
    "Re_x = numpy.zeros_like(x)\n",
    "Re_x[1:] = (y[1:]/x[1:])*numpy.sqrt(US[-1,1,-1,1:]*x[1:]/muf[-1,1:])"
   ]
  },
  {
   "cell_type": "code",
   "execution_count": 41,
   "metadata": {
    "collapsed": false
   },
   "outputs": [],
   "source": [
    "yp =numpy.zeros_like(y)\n",
    "yp[1:] = (y[1:]/x[1:])*numpy.sqrt(Re_x[1:])"
   ]
  },
  {
   "cell_type": "code",
   "execution_count": 42,
   "metadata": {
    "collapsed": false
   },
   "outputs": [
    {
     "data": {
      "image/png": "[encoded data removed]",
      "text/plain": [
       "<matplotlib.figure.Figure at 0x137b30470>"
      ]
     },
     "metadata": {},
     "output_type": "display_data"
    }
   ],
   "source": [
    "pyplot.plot(Pf[-1,:]/P_inf, yp);"
   ]
  },
  {
   "cell_type": "markdown",
   "metadata": {},
   "source": [
    "### Outflow Temperature vs Non-dimensional y-distance"
   ]
  },
  {
   "cell_type": "code",
   "execution_count": 43,
   "metadata": {
    "collapsed": false
   },
   "outputs": [
    {
     "data": {
      "image/png": "[encoded data removed]",
      "text/plain": [
       "<matplotlib.figure.Figure at 0x137da47b8>"
      ]
     },
     "metadata": {},
     "output_type": "display_data"
    }
   ],
   "source": [
    "pyplot.plot(Tf[-1,:]/T_inf, yp);"
   ]
  },
  {
   "cell_type": "markdown",
   "metadata": {},
   "source": [
    "### Outflow Velocity vs Non-dimensional y-distance"
   ]
  },
  {
   "cell_type": "code",
   "execution_count": 44,
   "metadata": {
    "collapsed": false
   },
   "outputs": [
    {
     "data": {
      "image/png": "[encoded data removed]",
      "text/plain": [
       "<matplotlib.figure.Figure at 0x13827b358>"
      ]
     },
     "metadata": {},
     "output_type": "display_data"
    }
   ],
   "source": [
    "pyplot.plot(US[-1,1,-1,:]/(u_inf*US[-1,0,-1,:]), yp);"
   ]
  },
  {
   "cell_type": "markdown",
   "metadata": {},
   "source": [
    "## Animate!"
   ]
  },
  {
   "cell_type": "code",
   "execution_count": 45,
   "metadata": {
    "collapsed": false
   },
   "outputs": [
    {
     "data": {
      "image/png": "[encoded data removed]",
      "text/plain": [
       "<matplotlib.figure.Figure at 0x137db2588>"
      ]
     },
     "metadata": {},
     "output_type": "display_data"
    }
   ],
   "source": [
    "fig = pyplot.figure(figsize=(8,5))\n",
    "\n",
    "ims = []\n",
    "\n",
    "for i in range(0,2000,10):\n",
    "    im = pyplot.contourf(my,mx,US[i,2,:,:])\n",
    "    def setvisible(self,vis):\n",
    "        for c in self.collections: c.set_visible(vis)\n",
    "    im.set_visible = types.MethodType(setvisible,im)\n",
    "    im.axes = pylab.gca()\n",
    "    im.figure=fig\n",
    "    #pyplot.colorbar()\n",
    "    ims.append([im])\n"
   ]
  },
  {
   "cell_type": "code",
   "execution_count": 52,
   "metadata": {
    "collapsed": false
   },
   "outputs": [],
   "source": [
    "# #ani = animation.FuncAnimation(fig,ims)\n",
    "ani = animation.ArtistAnimation(fig, ims)\n",
    "#display_animation(ani, default_mode='once')\n",
    "\n",
    "#ani.save('ymom.mpeg')"
   ]
  },
  {
   "cell_type": "code",
   "execution_count": 47,
   "metadata": {
    "collapsed": false
   },
   "outputs": [
    {
     "data": {
      "text/html": [
       "<link href='http://fonts.googleapis.com/css?family=Alegreya+Sans:100,300,400,500,700,800,900,100italic,300italic,400italic,500italic,700italic,800italic,900italic' rel='stylesheet' type='text/css'>\n",
       "<link href='http://fonts.googleapis.com/css?family=Arvo:400,700,400italic' rel='stylesheet' type='text/css'>\n",
       "<link href='http://fonts.googleapis.com/css?family=PT+Mono' rel='stylesheet' type='text/css'>\n",
       "<link href='http://fonts.googleapis.com/css?family=Shadows+Into+Light' rel='stylesheet' type='text/css'>\n",
       "<link href='http://fonts.googleapis.com/css?family=Nixie+One' rel='stylesheet' type='text/css'>\n",
       "<style>\n",
       "\n",
       "@font-face {\n",
       "    font-family: \"Computer Modern\";\n",
       "    src: url('http://mirrors.ctan.org/fonts/cm-unicode/fonts/otf/cmunss.otf');\n",
       "}\n",
       "\n",
       "#notebook_panel { /* main background */\n",
       "    background: rgb(245,245,245);\n",
       "}\n",
       "\n",
       "div.cell { /* set cell width */\n",
       "    width: 750px;\n",
       "}\n",
       "\n",
       "div #notebook { /* centre the content */\n",
       "    background: #fff; /* white background for content */\n",
       "    width: 1000px;\n",
       "    margin: auto;\n",
       "    padding-left: 0em;\n",
       "}\n",
       "\n",
       "#notebook li { /* More space between bullet points */\n",
       "    margin-top:0.8em;\n",
       "}\n",
       "\n",
       "/* draw border around running cells */\n",
       "div.cell.border-box-sizing.code_cell.running { \n",
       "    border: 1px solid #111;\n",
       "}\n",
       "\n",
       "/* Put a solid color box around each cell and its output, visually linking them*/\n",
       "div.cell.code_cell {\n",
       "    background-color: rgb(256,256,256); \n",
       "    border-radius: 0px; \n",
       "    padding: 0.5em;\n",
       "    margin-left:1em;\n",
       "    margin-top: 1em;\n",
       "}\n",
       "\n",
       "div.text_cell_render{\n",
       "    font-family: 'Alegreya Sans' sans-serif;\n",
       "    line-height: 140%;\n",
       "    font-size: 125%;\n",
       "    font-weight: 400;\n",
       "    width:600px;\n",
       "    margin-left:auto;\n",
       "    margin-right:auto;\n",
       "}\n",
       "\n",
       "\n",
       "/* Formatting for header cells */\n",
       ".text_cell_render h1 {\n",
       "    font-family: 'Nixie One', serif;\n",
       "    font-style:regular;\n",
       "    font-weight: 400;    \n",
       "    font-size: 45pt;\n",
       "    line-height: 100%;\n",
       "    color: rgb(0,51,102);\n",
       "    margin-bottom: 0.5em;\n",
       "    margin-top: 0.5em;\n",
       "    display: block;\n",
       "}\n",
       "\n",
       ".text_cell_render h2 {\n",
       "    font-family: 'Nixie One', serif;\n",
       "    font-weight: 400;\n",
       "    font-size: 30pt;\n",
       "    line-height: 100%;\n",
       "    color: rgb(0,51,102);\n",
       "    margin-bottom: 0.1em;\n",
       "    margin-top: 0.3em;\n",
       "    display: block;\n",
       "}\t\n",
       "\n",
       ".text_cell_render h3 {\n",
       "    font-family: 'Nixie One', serif;\n",
       "    margin-top:16px;\n",
       "    font-size: 22pt;\n",
       "    font-weight: 600;\n",
       "    margin-bottom: 3px;\n",
       "    font-style: regular;\n",
       "    color: rgb(102,102,0);\n",
       "}\n",
       "\n",
       ".text_cell_render h4 {    /*Use this for captions*/\n",
       "    font-family: 'Nixie One', serif;\n",
       "    font-size: 14pt;\n",
       "    text-align: center;\n",
       "    margin-top: 0em;\n",
       "    margin-bottom: 2em;\n",
       "    font-style: regular;\n",
       "}\n",
       "\n",
       ".text_cell_render h5 {  /*Use this for small titles*/\n",
       "    font-family: 'Nixie One', sans-serif;\n",
       "    font-weight: 400;\n",
       "    font-size: 16pt;\n",
       "    color: rgb(163,0,0);\n",
       "    font-style: italic;\n",
       "    margin-bottom: .1em;\n",
       "    margin-top: 0.8em;\n",
       "    display: block;\n",
       "}\n",
       "\n",
       ".text_cell_render h6 { /*use this for copyright note*/\n",
       "    font-family: 'PT Mono', sans-serif;\n",
       "    font-weight: 300;\n",
       "    font-size: 9pt;\n",
       "    line-height: 100%;\n",
       "    color: grey;\n",
       "    margin-bottom: 1px;\n",
       "    margin-top: 1px;\n",
       "}\n",
       "\n",
       ".CodeMirror{\n",
       "    font-family: \"PT Mono\";\n",
       "    font-size: 90%;\n",
       "}\n",
       "\n",
       "</style>\n",
       "<script>\n",
       "    MathJax.Hub.Config({\n",
       "                        TeX: {\n",
       "                           extensions: [\"AMSmath.js\"],\n",
       "                           equationNumbers: { autoNumber: \"AMS\", useLabelIds: true}\n",
       "                           },\n",
       "                tex2jax: {\n",
       "                    inlineMath: [ ['$','$'], [\"\\\\(\",\"\\\\)\"] ],\n",
       "                    displayMath: [ ['$$','$$'], [\"\\\\[\",\"\\\\]\"] ]\n",
       "                },\n",
       "                displayAlign: 'center', // Change this to 'center' to center equations.\n",
       "                \"HTML-CSS\": {\n",
       "                    styles: {'.MathJax_Display': {\"margin\": 4}}\n",
       "                }\n",
       "        });\n",
       "</script>\n"
      ],
      "text/plain": [
       "<IPython.core.display.HTML object>"
      ]
     },
     "execution_count": 47,
     "metadata": {},
     "output_type": "execute_result"
    }
   ],
   "source": [
    "from IPython.core.display import HTML\n",
    "css_file = '/Users/Luis/numerical-mooc/styles/numericalmoocstyle.css'\n",
    "HTML(open(css_file, \"r\").read())"
   ]
  }
 ],
 "metadata": {
  "kernelspec": {
   "display_name": "Python 3",
   "language": "python",
   "name": "python3"
  },
  "language_info": {
   "codemirror_mode": {
    "name": "ipython",
    "version": 3
   },
   "file_extension": ".py",
   "mimetype": "text/x-python",
   "name": "python",
   "nbconvert_exporter": "python",
   "pygments_lexer": "ipython3",
   "version": "3.4.3"
  }
 },
 "nbformat": 4,
 "nbformat_minor": 0
}
