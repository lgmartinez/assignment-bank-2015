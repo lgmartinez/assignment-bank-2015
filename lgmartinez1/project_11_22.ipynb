{
 "cells": [
  {
   "cell_type": "markdown",
   "metadata": {},
   "source": [
    "## Supersonic Flow over Flat plate"
   ]
  },
  {
   "cell_type": "raw",
   "metadata": {},
   "source": [
    "This code solves the navier stokes equations with five additional equations to close the system. The code employs a finite difference scheme by applying the MacCormack tecnique. My main source is \"Computational Fluid Dynamics\" by Anderson. "
   ]
  },
  {
   "cell_type": "code",
   "execution_count": 1,
   "metadata": {
    "collapsed": true
   },
   "outputs": [],
   "source": [
    "import numpy\n",
    "from matplotlib import pyplot    \n",
    "%matplotlib inline\n",
    "from matplotlib import animation\n",
    "from JSAnimation.IPython_display import display_animation"
   ]
  },
  {
   "cell_type": "code",
   "execution_count": 2,
   "metadata": {
    "collapsed": true
   },
   "outputs": [],
   "source": [
    "# Initial Conditions\n",
    "gamma = 1.4\n",
    "#Velocity\n",
    "M = 4.0 #mach number\n",
    "c_inf = 340.28 #speed of sound m/s\n",
    "u_inf = M*c_inf\n",
    "v_inf = 0.0\n",
    "V_inf = numpy.sqrt(u_inf**2 + v_inf**2 )\n",
    "#\n",
    "R = 287 # J/(kg*K)\n",
    "T_inf = 288.16 #Kelvin\n",
    "P_inf = 101325 #N/m^2\n",
    "rho_inf = P_inf/(R*T_inf)\n",
    "Pr = 0.71 #prandtl no.\n",
    "dyn_visc = 1.7894e-5 #kg/(m*s)\n",
    "lmbda = -(2./3.)*dyn_visc # second viscosity coefficient\n",
    "gamma = 1.4\n",
    "\n",
    "#specific heat\n",
    "cv = R/(gamma-1.)\n",
    "cp = gamma*cv\n",
    "\n",
    "e_inf = cv*T_inf\n",
    "#Boundary Conditions\n",
    "#no slip:\n",
    "T_wall = T_inf #Kelvin"
   ]
  },
  {
   "cell_type": "code",
   "execution_count": 3,
   "metadata": {
    "collapsed": true
   },
   "outputs": [],
   "source": [
    "# Parameters\n",
    "L = 1e-5 #length of plate\n",
    "\n",
    "Re = (rho_inf*V_inf*L)/dyn_visc\n",
    "\n",
    "#Grid\n",
    "Y = (25*L)/numpy.sqrt(Re)\n",
    "n = 70 #number of grid points\n",
    "\n",
    "#space steps:\n",
    "dx = L/(n-1)\n",
    "dy = Y/(n-1)\n",
    "#x = numpy.linspace(0,L,n)"
   ]
  },
  {
   "cell_type": "code",
   "execution_count": 4,
   "metadata": {
    "collapsed": true
   },
   "outputs": [],
   "source": [
    "def get_Uinitial(rho_fs, ufs, vfs, Vfs, Tfs, efs):\n",
    "    \"\"\"\n",
    "    Parameters:\n",
    "    -----------\n",
    "    \"\"\"\n",
    "    #---------------------------------------------\n",
    "    U_start = numpy.zeros((4,70,70),dtype=float)\n",
    "    #\n",
    "    U_start[0,:,:] = rho_fs\n",
    "    #\n",
    "    U_start[1,:,1:] = rho_fs*ufs\n",
    "    U_start[1,:,0] = 0.0 #no slip on plate including leading edge\n",
    "    #\n",
    "    U_start[2,:,:] = rho_fs*vfs\n",
    "    U_start[2,:,0] = 0.0 #no slip on plate including leading edge\n",
    "    #\n",
    "    U_start[3,:,1:] = (efs + 0.5*(Vfs**2))*rho_fs\n",
    "    U_start[3,:,0] = (T_wall*cv)*rho_fs #no slip\n",
    "    \n",
    "    return U_start  "
   ]
  },
  {
   "cell_type": "code",
   "execution_count": 5,
   "metadata": {
    "collapsed": true
   },
   "outputs": [],
   "source": [
    "def get_Temperature(Uv):\n",
    "    #\n",
    "    TT = numpy.zeros((n,n))\n",
    "    #\n",
    "    #interior points\n",
    "    TT[1:-1,1:-1] = (1/cv)*\\\n",
    "                    ((Uv[3,1:-1,1:-1]/Uv[0,1:-1,1:-1]) -\\\n",
    "                     0.5*( (Uv[1,1:-1,1:-1]/Uv[0,1:-1,1:-1])**2 + (Uv[2,1:-1,1:-1]/Uv[0,1:-1,1:-1])**2 ))\n",
    "    #\n",
    "    #enforce BCS:\n",
    "    TT[1:,0] = T_wall  #at plate x-line\n",
    "    TT[0,0] = T_inf #leading edge\n",
    "    TT[:,-1] = T_inf #at top x-line\n",
    "    TT[0,:] = T_inf  #at inflow y-line\n",
    "    \n",
    "    #at outflow:\n",
    "    TT[-1,1:-1] = 2*TT[-2,1:-1] - TT[-3,1:-1] #at outflow y-line, extrapolate\n",
    "    #\n",
    "    return TT"
   ]
  },
  {
   "cell_type": "code",
   "execution_count": 6,
   "metadata": {
    "collapsed": true
   },
   "outputs": [],
   "source": [
    "def get_visc(Temp):\n",
    "    \"\"\"\n",
    "    Sutherland's law\n",
    "    \"\"\"\n",
    "    v = numpy.zeros_like(Temp)\n",
    "    #\n",
    "    v[:,1:] = dyn_visc*((Temp[:,1:]/T_inf)**(3./2.))*(T_inf+110.)/(Temp[:,1:]+110)\n",
    "    v[:,0] = dyn_visc # at plate: T_inf/T = 1\n",
    "    #\n",
    "    return v"
   ]
  },
  {
   "cell_type": "code",
   "execution_count": 7,
   "metadata": {
    "collapsed": true
   },
   "outputs": [],
   "source": [
    "def get_k(visc):\n",
    "    #\n",
    "    kk = numpy.zeros_like(visc)\n",
    "    #\n",
    "    kk[:,:] = visc[:,:]*cp/Pr\n",
    "    #\n",
    "    return kk"
   ]
  },
  {
   "cell_type": "code",
   "execution_count": 8,
   "metadata": {
    "collapsed": true
   },
   "outputs": [],
   "source": [
    "def get_BC(Uv, Temp):\n",
    "    #\n",
    "    Ubc = Uv.copy()\n",
    "    #\n",
    "    #density\n",
    "    Ubc[0,0,0] = rho_inf #leading edge\n",
    "    Ubc[0,1:,0] = (2*R*Uv[0,1:,1]*Temp[1:,1] - R*Uv[0,1:,2]*Temp[1:,2])/(R*T_wall) #density at plate\n",
    "    Ubc[0,0,1:] = rho_inf #inflow\n",
    "    Ubc[0,1:,-1] = rho_inf #top\n",
    "    #\n",
    "    #x-mom:\n",
    "    Ubc[1,:,0] = 0.0 #plate and leading edge\n",
    "    Ubc[1,0,1:] = rho_inf*u_inf #inflow\n",
    "    Ubc[1,1:,-1] = rho_inf*u_inf #top\n",
    "    #y-mom:\n",
    "    Ubc[2,:,0] = 0.0 #plate and leading edge\n",
    "    Ubc[2,0,1:] = 0.0 #inflow\n",
    "    Ubc[2,1:,-1] = 0.0 #top\n",
    "    #\n",
    "    #E_total:\n",
    "    Ubc[3,:,0] = rho_inf*(cv*T_inf) #plate and leading edge\n",
    "    Ubc[3,0,1:] = rho_inf*(cv*T_inf + 0.5*u_inf**2) #inflow\n",
    "    Ubc[3,1:,-1] = rho_inf*(cv*T_inf + 0.5*u_inf**2) #top\n",
    "    #\n",
    "    #at outflow, u,v, P, and T are extrapolated, then:\n",
    "    uout = numpy.zeros((n-2))\n",
    "    vout = numpy.zeros((n-2))\n",
    "    Pout = numpy.zeros((n-2))\n",
    "    #\n",
    "    uout[:] = 2*Uv[1,-2,1:-1]/Uv[0,-2,1:-1] - Uv[1,-3,1:-1]/Uv[0,-3,1:-1]\n",
    "    vout[:] =  2*Uv[2,-2,1:-1]/Uv[0,-2,1:-1] - Uv[2,-3,1:-1]/Uv[0,-3,1:-1]\n",
    "    Pout[:] = 2*Uv[0,-2,1:-1]*R*Temp[-2,1:-1] - Uv[0,-3,1:-1]*R*Temp[-3,1:-1]\n",
    "    #\n",
    "    Ubc[0,-1,1:-1] = Pout[:]/(R*Temp[-1,1:-1])\n",
    "    Ubc[1,-1,1:-1] = Ubc[0,-1,1:-1] * uout[:]\n",
    "    Ubc[2,-1,1:-1] = Ubc[0,-1,1:-1] * vout[:]\n",
    "    Ubc[3,-1,1:-1] = Ubc[0,-1,1:-1]*(Temp[-1,1:-1]*cv + 0.5*(uout[:]**2 + vout[:]**2))\n",
    "    #\n",
    "    return Ubc"
   ]
  },
  {
   "cell_type": "markdown",
   "metadata": {},
   "source": [
    "## Predictor Functions"
   ]
  },
  {
   "cell_type": "code",
   "execution_count": 9,
   "metadata": {
    "collapsed": false
   },
   "outputs": [],
   "source": [
    "def get_tau_xy_predict(Uv, visc):\n",
    "    #define\n",
    "    tau_xy = numpy.zeros((n,n))\n",
    "    #at plate, exclude leading edge and ouflow point\n",
    "    # i backward and j forward\n",
    "    tau_xy[1:-1,0] = visc[1:-1,0]*((Uv[1,1:-1,1]/Uv[0,1:-1,1] - Uv[1,1:-1,0]/Uv[0,1:-1,0])/dy +\\\n",
    "                                   (Uv[2,1:-1,0]/Uv[0,1:-1,0] - Uv[2,:-2,0]/Uv[0,:-2,0])/dx)\n",
    "    #at inflow, including leading edge, excluding upper boundary:\n",
    "    #i and j forward\n",
    "    tau_xy[0,:-1] = visc[0,:-1]*((Uv[1,0,1:]/Uv[0,0,1:] - Uv[1,0,:-1]/Uv[0,0,:-1])/dy +\\\n",
    "                                   (Uv[2,1,:-1]/Uv[0,1,:-1] - Uv[2,0,:-1]/Uv[0,0,:-1])/dx)\n",
    "    #at upper boundary, excluding outflow point and inflow point:\n",
    "    # i back j back\n",
    "    tau_xy[1:-1,-1] = visc[1:-1,-1]*((Uv[1,1:-1,-1]/Uv[0,1:-1,-1] - Uv[1,1:-1,-2]/Uv[0,1:-1,-2])/dy +\\\n",
    "                                   (Uv[2,1:-1,-1]/Uv[0,1:-1,-1] - Uv[2,:-2,-1]/Uv[0,:-2,-1])/dx)\n",
    "\n",
    "    #   #inner points:\n",
    "    #i back j central\n",
    "    tau_xy[1:-1,1:-1] = visc[1:-1,1:-1]*( (1/(2*dy))*((Uv[1,1:-1,2:]/Uv[0,1:-1,2:])-(Uv[1,1:-1,:-2]/Uv[0,1:-1,:-2])) +\\\n",
    "                                      (1/dx)*((Uv[2,1:-1,1:-1]/Uv[0,1:-1,1:-1])-(Uv[2,:-2,1:-1]/Uv[0,:-2,1:-1])) )\n",
    "    #upper inflow\n",
    "    # i forward j backward\n",
    "    tau_xy[0,-1] = visc[0,-1]*((Uv[1,0,-1]/Uv[0,0,-1] - Uv[1,0,-2]/Uv[0,0,-2])/dy +\\\n",
    "                                   (Uv[2,1,-1]/Uv[0,1,-1] - Uv[2,0,-1]/Uv[0,0,-1])/dx)\n",
    "    #upper outflow\n",
    "    #i back j back\n",
    "    tau_xy[-1,-1] = visc[-1,-1]*((Uv[1,-1,-1]/Uv[0,-1,-1] - Uv[1,-1,-2]/Uv[0,-1,-2])/dy +\\\n",
    "                                   (Uv[2,-1,-1]/Uv[0,-1,-1] - Uv[2,-2,-1]/Uv[0,-2,-1])/dx) \n",
    "    #outflow:\n",
    "    #i back j central\n",
    "    tau_xy[-1,1:-1] = visc[-1,1:-1]*((Uv[1,-1,2:]/Uv[0,-1,2:] - Uv[1,-1,:-2]/Uv[0,-1,:-2])/(2*dy) +\\\n",
    "                                   (Uv[2,-1,1:-1]/Uv[0,-1,1:-1] - Uv[2,-2,1:-1]/Uv[0,-2,1:-1])/dx)\n",
    "    return tau_xy"
   ]
  },
  {
   "cell_type": "code",
   "execution_count": 10,
   "metadata": {
    "collapsed": true
   },
   "outputs": [],
   "source": [
    "def get_tau_xx_predict(Uv, visc):\n",
    "    #velocity magnitude:\n",
    "    V = numpy.zeros_like(Uv)\n",
    "    V = numpy.abs(numpy.sqrt( (Uv[1,:,:]/Uv[0,:,:])**2 + (Uv[2,:,:]/Uv[0,:,:])**2 ) )\n",
    "    tau_xx = numpy.zeros((n,n))\n",
    "    #at plate, exclude leading edge and ouflow point\n",
    "    # i backward and j forward\n",
    "    tau_xx[1:-1,0] = lmbda * ( (V[1:-1,0]-V[:-2,0])/dx + (V[1:-1,1] - V[1:-1,0])/dy ) +\\\n",
    "                     2*visc[1:-1,0]*( Uv[1,1:-1,0]/Uv[0,1:-1,0] - Uv[1,:-2,0]/Uv[0,:-2,0] )/dx\n",
    "    #at inflow, including leading edge, excluding upper boundary:\n",
    "    #i and j forward\n",
    "    tau_xx[0,:-1] = lmbda * ( (V[1,:-1]-V[0,:-1])/dx + (V[0,1:] - V[0,:-1])/dy ) +\\\n",
    "                     2*visc[0,:-1]*( Uv[1,1,:-1]/Uv[0,1,:-1] - Uv[1,0,:-1]/Uv[0,0,:-1] )/dx\n",
    "    #upper boundary, excluding outflow and inflow points:\n",
    "    #i and j backward\n",
    "    tau_xx[1:-1,-1] = lmbda * ( (V[1:-1,-1]-V[:-2,-1])/dx + (V[1:-1,-1] - V[1:-1,-2])/dy ) +\\\n",
    "                     2*visc[1:-1,-1]*( Uv[1,1:-1,-1]/Uv[0,1:-1,-1] - Uv[1,:-2,-1]/Uv[0,:-2,-1] )/dx\n",
    "    #inner points\n",
    "    # i backward, j central\n",
    "    tau_xx[1:-1,1:-1] = lmbda*((V[1:-1,1:-1]-V[:-2,1:-1])/dx + (V[1:-1,2:]-V[1:-1,:-2])/(2*dy))+\\\n",
    "                       (2*visc[1:-1,1:-1]*(1/dx)*((Uv[1,1:-1,1:-1]/Uv[0,1:-1,1:-1])-(Uv[1,:-2,1:-1]/Uv[0,:-2,1:-1])))\n",
    "    #upper inflow\n",
    "    # i forward j backward\n",
    "    tau_xx[0,-1] = lmbda * ( (V[1,-1]-V[0,-1])/dx + (V[0,-1] - V[0,-2])/dy ) +\\\n",
    "                     2*visc[0,-1]*( Uv[1,1,-1]/Uv[0,1,-1] - Uv[1,0,-1]/Uv[0,0,-1] )/dx\n",
    "    #upper outflow\n",
    "    # i and j back\n",
    "    tau_xx[-1,-1] = lmbda * ( (V[-1,-1]-V[-2,-1])/dx + (V[-1,-1] - V[-1,-2])/dy ) +\\\n",
    "                     2*visc[-1,-1]*( Uv[1,-1,-1]/Uv[0,-1,-1] - Uv[1,-2,-1]/Uv[0,-2,-1])/dx\n",
    "    #outflow:\n",
    "    #i back j central\n",
    "    tau_xx[-1,1:-1] = lmbda * ( (V[-1,1:-1]-V[-2,1:-1])/dx + (V[-1,2:] - V[-1,:-2])/(2*dy) ) +\\\n",
    "                     2*visc[-1,1:-1]*( Uv[1,-1,1:-1]/Uv[0,-1,1:-1] - Uv[1,-2,1:-1]/Uv[0,-2,1:-1] )/dx\n",
    "    \n",
    "    return tau_xx"
   ]
  },
  {
   "cell_type": "code",
   "execution_count": 11,
   "metadata": {
    "collapsed": true
   },
   "outputs": [],
   "source": [
    "def get_tau_yy_predict(Uv, visc):\n",
    "        #velocity magnitude:\n",
    "    V = numpy.zeros_like(Uv)\n",
    "    V = numpy.abs(numpy.sqrt( (Uv[1,:,:]/Uv[0,:,:])**2 + (Uv[2,:,:]/Uv[0,:,:])**2 ) )\n",
    "    tau_yy = numpy.zeros((n,n))\n",
    "    #at plate, exclude leading edge and ouflow point\n",
    "    # i backward and j forward\n",
    "    tau_yy[1:-1,0] = lmbda * ( (V[1:-1,0]-V[:-2,0])/dx + (V[1:-1,1] - V[1:-1,0])/dy ) +\\\n",
    "                     2*visc[1:-1,0]*( Uv[2,1:-1,1]/Uv[0,1:-1,1] - Uv[2,1:-1,0]/Uv[0,1:-1,0] )/dy\n",
    "    #at inflow, including leading edge, excluding upper boundary:\n",
    "    #i and j forward\n",
    "    tau_yy[0,:-1] = lmbda * ( (V[1,:-1]-V[0,:-1])/dx + (V[0,1:] - V[0,:-1])/dy ) +\\\n",
    "                     2*visc[0,:-1]*( Uv[2,0,1:]/Uv[0,0,1:] - Uv[2,0,:-1]/Uv[0,0,:-1] )/dy\n",
    "    #upper boundary, excluding outflow and inflow points:\n",
    "    #i and j backward\n",
    "    tau_yy[1:-1,-1] = lmbda * ( (V[1:-1,-1]-V[:-2,-1])/dx + (V[1:-1,-1] - V[1:-1,-2])/dy ) +\\\n",
    "                     2*visc[1:-1,-1]*( Uv[2,1:-1,-1]/Uv[0,1:-1,-1] - Uv[2,1:-1,-2]/Uv[0,1:-1,-2] )/dy\n",
    "    #inner points\n",
    "    # i backward, j central\n",
    "    tau_yy[1:-1,1:-1] = lmbda*((V[1:-1,1:-1]-V[:-2,1:-1])/dx + (V[1:-1,2:]-V[1:-1,:-2])/(2*dy))+\\\n",
    "                       (2*visc[1:-1,1:-1]*(1/(2*dy))*((Uv[2,1:-1,2:]/Uv[0,1:-1,2:])-(Uv[2,1:-1,:-2]/Uv[0,1:-1,:-2])))\n",
    "    #upper inflow\n",
    "    # i forward j backward\n",
    "    tau_yy[0,-1] =  lmbda * ( (V[1,-1]-V[0,-1])/dx + (V[0,-1] - V[0,-2])/dy ) +\\\n",
    "                     2*visc[0,-1]*( Uv[2,0,-1]/Uv[0,0,-1] - Uv[2,0,-2]/Uv[0,0,-2] )/dy\n",
    "    #upper outflow\n",
    "    # i and j back\n",
    "    tau_yy[-1,-1] = lmbda * ( (V[-1,-1]-V[-2,-1])/dx + (V[-1,-1] - V[-1,-2])/dy ) +\\\n",
    "                     2*visc[-1,-1]*( Uv[2,-1,-1]/Uv[0,-1,-1] - Uv[2,-1,-2]/Uv[0,-1,-2] )/dy \n",
    "    #outflow:\n",
    "    #i back j central\n",
    "    tau_yy[-1,1:-1] = lmbda*((V[-1,1:-1]-V[-2,1:-1])/dx + (V[-1,2:]-V[-1,:-2])/(2*dy))+\\\n",
    "                       (2*visc[-1,1:-1]*(1/(2*dy))*((Uv[2,-1,2:]/Uv[0,-1,2:])-(Uv[2,-1,:-2]/Uv[0,-1,:-2])))\n",
    "    return tau_yy"
   ]
  },
  {
   "cell_type": "code",
   "execution_count": 12,
   "metadata": {
    "collapsed": true
   },
   "outputs": [],
   "source": [
    "def get_E_flux_predictor(Uv, visc, Temp, kc, txx, txy):\n",
    "    #\n",
    "    Ev= numpy.zeros_like(Uv)\n",
    "    qx = numpy.zeros((n,n))\n",
    "    qx[1:,1:-1] = -kc[1:,1:-1]*(Temp[1:,1:-1]-Temp[:-1,1:-1])/dx # i=1: for forward Diff of E\n",
    "    #\n",
    "    Ev[0,:,:] = Uv[1,:,:]\n",
    "    Ev[1,:,:] = (Uv[1,:,:]**2)/Uv[0,:,:] + Uv[0,:,:]*R*Temp[:,:] - txx[:]\n",
    "    Ev[2,:,:] = Uv[1,:,:]*Uv[2,:,:]/Uv[0,:,:] - txy[:]\n",
    "    Ev[3,:,:] = (Uv[1,:,:]/Uv[0,:,:])*(Uv[3,:,:] + Uv[0,:,:]*R*Temp[:,:]) -\\\n",
    "                (Uv[1,:,:]/Uv[0,:,:])*txx[:] - (Uv[2,:,:]/Uv[0,:,:])*txy + qx[:,:]\n",
    "    return Ev"
   ]
  },
  {
   "cell_type": "code",
   "execution_count": 13,
   "metadata": {
    "collapsed": true
   },
   "outputs": [],
   "source": [
    "def get_F_flux_predictor(Uv, visc, Temp, kc, txy, tyy):\n",
    "        #\n",
    "    Fv= numpy.zeros_like(Uv)\n",
    "    qy = numpy.zeros((n,n))\n",
    "    qy[1:-1,1:] = -kc[1:-1,1:]*(Temp[1:-1,1:]-Temp[1:-1,:-1])/dy\n",
    "    #\n",
    "    Fv[0,:,:] = Uv[2,:,:]\n",
    "    Fv[1,:,:] = Uv[1,:,:]*Uv[2,:,:]/Uv[0,:,:] - txy[:]\n",
    "    Fv[2,:,:] = (Uv[2,:,:]**2)/Uv[0,:,:] + Uv[0,:,:]*R*Temp[:,:] - txy[:]\n",
    "    Fv[3,:,:] = (Uv[2,:,:]/Uv[0,:,:])*(Uv[3,:,:] + Uv[0,:,:]*R*Temp[:,:]) -\\\n",
    "                (Uv[1,:,:]/Uv[0,:,:])*txy[:] - (Uv[2,:,:]/Uv[0,:,:])*tyy + qy[:,:]\n",
    "    return Fv"
   ]
  },
  {
   "cell_type": "code",
   "execution_count": 14,
   "metadata": {
    "collapsed": true
   },
   "outputs": [],
   "source": [
    "def get_dt(Uv, visc, Temp):\n",
    "    K=0.6\n",
    "    dt_cfl = numpy.zeros((n-2,n-2))\n",
    "    dt_cfl[:,:] = ((numpy.abs(Uv[1,1:-1,1:-1]/Uv[0,1:-1,1:-1]))/dx + (numpy.abs(Uv[2,1:-1,1:-1]/Uv[0,1:-1,1:-1]))/dy +\\\n",
    "                   numpy.sqrt(gamma*R*Temp[1:-1,1:-1])*numpy.sqrt( 1/(dx**2) + 1/(dy**2) ) +\\\n",
    "                   2*numpy.max( ((4/3)*visc[1:-1,1:-1]*(gamma*visc[1:-1,1:-1]/Pr))/Uv[0,1:-1,1:-1] )*\\\n",
    "                    ( 1/(dx**2) + 1/(dy**2) ) )**(-1)\n",
    "    delt = numpy.min(K*dt_cfl[:,:])\n",
    "    return delt"
   ]
  },
  {
   "cell_type": "markdown",
   "metadata": {},
   "source": [
    "## Corrector Functions"
   ]
  },
  {
   "cell_type": "code",
   "execution_count": 15,
   "metadata": {
    "collapsed": true
   },
   "outputs": [],
   "source": [
    "def get_tau_xy_correct(Uv, visc):\n",
    "    #define\n",
    "    tau_xy = numpy.zeros((n,n))\n",
    "    #at plate, exclude leading edge and ouflow point\n",
    "    # i forward, j forward\n",
    "    tau_xy[1:-1,0] = visc[1:-1,0]*((Uv[1,1:-1,1]/Uv[0,1:-1,1] - Uv[1,1:-1,0]/Uv[0,1:-1,0])/dy +\\\n",
    "                                   (Uv[2,2:,0]/Uv[0,2:,0] - Uv[2,1:-1,0]/Uv[0,1:-1,0])/dx)\n",
    "    #at inflow, including leading edge, excluding upper boundary:\n",
    "    # i forward, j forward\n",
    "    tau_xy[0,:-1] = visc[0,:-1]*((Uv[1,0,1:]/Uv[0,0,1:] - Uv[1,0,:-1]/Uv[0,0,:-1])/dy +\\\n",
    "                                   (Uv[2,1,:-1]/Uv[0,1,:-1] - Uv[2,0,:-1]/Uv[0,0,:-1])/dx)\n",
    "    #at upper boundary, excluding outflow point and inflow point:\n",
    "    # i forward, j backward\n",
    "    tau_xy[1:-1,-1] = visc[1:-1,-1]*((Uv[1,1:-1,-1]/Uv[0,1:-1,-1] - Uv[1,1:-1,-2]/Uv[0,1:-1,-2])/dy +\\\n",
    "                                   (Uv[2,2:,-1]/Uv[0,2:,-1] - Uv[2,1:-1,-1]/Uv[0,1:-1,-1])/dx)\n",
    "\n",
    "    #inner points:\n",
    "    # i forward, j central\n",
    "    tau_xy[1:-1,1:-1] = visc[1:-1,1:-1]*( (1/(2*dy))*((Uv[1,1:-1,2:]/Uv[0,1:-1,2:])-(Uv[1,1:-1,:-2]/Uv[0,1:-1,:-2])) +\\\n",
    "                                      (1/dx)*((Uv[2,2:,1:-1]/Uv[0,2:,1:-1])-(Uv[2,1:-1,1:-1]/Uv[0,1:-1,1:-1])) )\n",
    "    #upper inflow:\n",
    "    # i forward , j backward\n",
    "    tau_xy[0,-1] = visc[0,-1]*((Uv[1,0,-1]/Uv[0,0,-1] - Uv[1,0,-2]/Uv[0,0,-2])/dy +\\\n",
    "                                   (Uv[2,1,-1]/Uv[0,1,-1] - Uv[2,0,-1]/Uv[0,0,-1])/dx)\n",
    "    #upper outflow\n",
    "    ##i back, j back\n",
    "    tau_xy[-1,-1] = visc[-1,-1]*((Uv[1,-1,-1]/Uv[0,-1,-1] - Uv[1,-1,-2]/Uv[0,-1,-2])/dy +\\\n",
    "                                   (Uv[2,-1,-1]/Uv[0,-1,-1] - Uv[2,-2,-1]/Uv[0,-2,-1])/dx) \n",
    "    #outflow:\n",
    "    # i back, j central\n",
    "    tau_xy[-1,1:-1] = visc[-1,1:-1]*((Uv[1,-1,2:]/Uv[0,-1,2:] - Uv[1,-1,:-2]/Uv[0,-1,:-2])/(2*dy) +\\\n",
    "                                   (Uv[2,-1,1:-1]/Uv[0,-1,1:-1] - Uv[2,-2,1:-1]/Uv[0,1,1:-1])/dx)\n",
    "    return tau_xy"
   ]
  },
  {
   "cell_type": "code",
   "execution_count": 16,
   "metadata": {
    "collapsed": true
   },
   "outputs": [],
   "source": [
    "def get_tau_xx_correct(Uv, visc):\n",
    "    #velocity magnitude:\n",
    "    V = numpy.zeros_like(Uv)\n",
    "    V = numpy.abs(numpy.sqrt( (Uv[1,:,:]/Uv[0,:,:])**2 + (Uv[2,:,:]/Uv[0,:,:])**2 ) )\n",
    "    tau_xx = numpy.zeros((n,n))\n",
    "    #at plate, exclude leading edge and ouflow point\n",
    "    # i forward, j forward\n",
    "    tau_xx[1:-1,0] = lmbda * ( (V[2:,0]-V[1:-1,0])/dx + (V[1:-1,1] - V[1:-1,0])/dy ) +\\\n",
    "                     2*visc[1:-1,0]*( Uv[1,2:,0]/Uv[0,2:,0] - Uv[1,1:-1,0]/Uv[0,1:-1,0] )/dx\n",
    "    #at inflow, including leading edge, excluding upper boundary:\n",
    "    # i forward, j forward\n",
    "    tau_xx[0,:-1] = lmbda * ( (V[1,:-1]-V[0,:-1])/dx + (V[0,1:] - V[0,:-1])/dy ) +\\\n",
    "                     2*visc[0,:-1]*( Uv[1,1,:-1]/Uv[0,1,:-1] - Uv[1,0,:-1]/Uv[0,0,:-1] )/dx\n",
    "    #upper boundary, excluding outflow and inflow points:\n",
    "    # i forward, j backward\n",
    "    tau_xx[1:-1,-1] = lmbda * ( (V[2:,-1]-V[1:-1,-1])/dx + (V[1:-1,-1] - V[1:-1,-2])/dy ) +\\\n",
    "                     2*visc[1:-1,-1]*( Uv[1,2:,-1]/Uv[0,2:,-1] - Uv[1,1:-1,-1]/Uv[0,1:-1,-1] )/dx\n",
    "    #inner points\n",
    "    # i forward, j central\n",
    "    tau_xx[1:-1,1:-1] = lmbda*((V[2:,1:-1]-V[1:-1,1:-1])/dx + (V[1:-1,2:]-V[1:-1,:-2])/(2*dy))+\\\n",
    "                       (2*visc[1:-1,1:-1]*(1/dx)*((Uv[1,2:,1:-1]/Uv[0,2:,1:-1])-(Uv[1,1:-1,1:-1]/Uv[0,1:-1,1:-1])))\n",
    "    #upper inflow\n",
    "    # i forward, j backward\n",
    "    tau_xx[0,-1] = lmbda * ( (V[1,-1]-V[0,-1])/dx + (V[0,-1] - V[0,-2])/dy ) +\\\n",
    "                     2*visc[0,-1]*( Uv[1,1,-1]/Uv[0,1,-1] - Uv[1,0,-1]/Uv[0,0,-1] )/dx\n",
    "    #upper outflow\n",
    "    # i and j back\n",
    "    tau_xx[-1,-1] = lmbda * ( (V[-1,-1]-V[-2,-1])/dx + (V[-1,-1] - V[-1,-2])/dy ) +\\\n",
    "                     2*visc[-1,-1]*( Uv[1,-1,-1]/Uv[0,-1,-1] - Uv[1,-2,-1]/Uv[0,-2,-1])/dx\n",
    "    #outflow:\n",
    "    #i back j central\n",
    "    tau_xx[-1,1:-1] = lmbda * ( (V[-1,1:-1]-V[-2,1:-1])/dx + (V[-1,2:] - V[-1,:-2])/(2*dy) ) +\\\n",
    "                     2*visc[-1,1:-1]*( Uv[1,-1,1:-1]/Uv[0,-1,1:-1] - Uv[1,-2,1:-1]/Uv[0,-2,1:-1] )/dx\n",
    "    return tau_xx"
   ]
  },
  {
   "cell_type": "code",
   "execution_count": 17,
   "metadata": {
    "collapsed": true
   },
   "outputs": [],
   "source": [
    "def get_tau_yy_correct(Uv, visc):\n",
    "        #velocity magnitude:\n",
    "    V = numpy.zeros_like(Uv)\n",
    "    V = numpy.abs(numpy.sqrt( (Uv[1,:,:]/Uv[0,:,:])**2 + (Uv[2,:,:]/Uv[0,:,:])**2 ) )\n",
    "    tau_yy = numpy.zeros((n,n))\n",
    "    #at plate, exclude leading edge and ouflow point\n",
    "    tau_yy[1:-1,0] = lmbda * ( (V[2:,0]-V[1:-1,0])/dx + (V[1:-1,1] - V[1:-1,0])/dy ) +\\\n",
    "                     2*visc[1:-1,0]*( Uv[2,1:-1,1]/Uv[0,1:-1,1] - Uv[2,1:-1,0]/Uv[0,1:-1,0] )/dy\n",
    "    #at inflow, including leading edge, excluding upper boundary:\n",
    "    tau_yy[0,:-1] = lmbda * ( (V[1,:-1]-V[0,:-1])/dx + (V[0,1:] - V[0,:-1])/dy ) +\\\n",
    "                     2*visc[0,:-1]*( Uv[2,0,1:]/Uv[0,0,1:] - Uv[2,0,:-1]/Uv[0,0,:-1] )/dy\n",
    "    #upper boundary, excluding outflow and inflow points:\n",
    "    tau_yy[1:-1,-1] = lmbda * ( (V[2:,-1]-V[1:-1,-1])/dx + (V[1:-1,-1] - V[1:-1,-2])/dy ) +\\\n",
    "                     2*visc[1:-1,-1]*( Uv[2,1:-1,-1]/Uv[0,1:-1,-1] - Uv[2,1:-1,-2]/Uv[0,1:-1,-2] )/dy\n",
    "    #inner points\n",
    "    tau_yy[1:-1,1:-1] = lmbda*((V[2:,1:-1]-V[1:-1,1:-1])/dx + (V[1:-1,2:]-V[1:-1,:-2])/(2*dy))+\\\n",
    "                       (2*visc[1:-1,1:-1]*(1/(2*dy))*((Uv[2,1:-1,2:]/Uv[0,1:-1,2:])-(Uv[2,1:-1,:-2]/Uv[0,1:-1,:-2])))\n",
    "        #\n",
    "    tau_yy[0,-1] =  lmbda * ( (V[1,-1]-V[0,-1])/dx + (V[0,-1] - V[0,-2])/dy ) +\\\n",
    "                     2*visc[0,-1]*( Uv[2,0,-1]/Uv[0,0,-1] - Uv[2,0,-2]/Uv[0,0,-2] )/dy\n",
    "    tau_yy[-1,-1] = lmbda * ( (V[-1,-1]-V[-2,-1])/dx + (V[-1,-1] - V[-1,-2])/dy ) +\\\n",
    "                     2*visc[-1,-1]*( Uv[2,-1,-1]/Uv[0,-1,-1] - Uv[2,-1,-2]/Uv[0,-1,-2] )/dy \n",
    "    #outflow:\n",
    "    tau_yy[-1,1:-1] = lmbda*((V[-1,1:-1]-V[-2,1:-1])/dx + (V[-1,2:]-V[-1,:-2])/(2*dy))-\\\n",
    "                       (2*visc[-1,1:-1]*(1/(2*dy))*((Uv[2,-1,2:]/Uv[0,-1,2:])-(Uv[2,-1,:-2]/Uv[0,-1,:-2])))\n",
    "    return tau_yy"
   ]
  },
  {
   "cell_type": "code",
   "execution_count": 18,
   "metadata": {
    "collapsed": true
   },
   "outputs": [],
   "source": [
    "def get_E_flux_correct(Uv, visc, Temp, kc, txx, txy):\n",
    "    #\n",
    "    Ev= numpy.zeros_like(Uv)\n",
    "    qx = numpy.zeros((n,n))\n",
    "    qx[:-1,1:-1] = -kc[:-1,1:-1]*(Temp[1:,1:-1]-Temp[:-1,1:-1])/dx\n",
    "#     qx[1:-1,0] = -kc[1:-1,0]*(Temp[2:,0]-Temp[1:-1,0])/dx #plate\n",
    "#     qx[1:-1,-1] = -kc[1:-1,-1]*(Temp[2:,-1]-Temp[1:-1,-1])/dx #top\n",
    "#     qx[0,1:-1] = -kc[0,1:-1]*(Temp[1,1:-1]-Temp[0,1:-1])/dx #in\n",
    "#     qx[-1,1:-1] = -kc[0,1:-1]*(Temp[-1,1:-1]-Temp[-2,1:-1])/dx #in\n",
    "    #\n",
    "    Ev[0,:,:] = Uv[1,:,:]\n",
    "    Ev[1,:,:] = (Uv[1,:,:]**2)/Uv[0,:,:] + Uv[0,:,:]*R*Temp[:,:] - txx[:]\n",
    "    Ev[2,:,:] = Uv[1,:,:]*Uv[2,:,:]/Uv[0,:,:] - txy[:]\n",
    "    Ev[3,:,:] = (Uv[1,:,:]/Uv[0,:,:])*(Uv[3,:,:] + Uv[0,:,:]*R*Temp[:,:]) -\\\n",
    "                (Uv[1,:,:]/Uv[0,:,:])*txx[:] - (Uv[2,:,:]/Uv[0,:,:])*txy + qx[:,:]\n",
    "    return Ev"
   ]
  },
  {
   "cell_type": "code",
   "execution_count": 19,
   "metadata": {
    "collapsed": true
   },
   "outputs": [],
   "source": [
    "def get_F_flux_correct(Uv, visc, Temp, kc, txy, tyy):\n",
    "        #\n",
    "    Fv= numpy.zeros_like(Uv)\n",
    "    qy = numpy.zeros((n,n))\n",
    "    qy[1:-1,:-1] = -kc[1:-1,:-1]*(Temp[1:-1,1:]-Temp[1:-1,:-1])/dy\n",
    "    #\n",
    "    Fv[0,:,:] = Uv[2,:,:]\n",
    "    Fv[1,:,:] = Uv[1,:,:]*Uv[2,:,:]/Uv[0,:,:] - txy[:]\n",
    "    Fv[2,:,:] = (Uv[2,:,:]**2)/Uv[0,:,:] + Uv[0,:,:]*R*Temp[:,:] - txy[:]\n",
    "    Fv[3,:,:] = (Uv[2,:,:]/Uv[0,:,:])*(Uv[3,:,:] + Uv[0,:,:]*R*Temp[:,:]) -\\\n",
    "                (Uv[1,:,:]/Uv[0,:,:])*txy[:] - (Uv[2,:,:]/Uv[0,:,:])*tyy + qy[:,:]\n",
    "    return Fv"
   ]
  },
  {
   "cell_type": "markdown",
   "metadata": {},
   "source": [
    "## Test"
   ]
  },
  {
   "cell_type": "raw",
   "metadata": {},
   "source": [
    "UU = get_Uinitial(rho_inf, M, u_inf, T_inf)\n",
    "T = get_Temperature(UU)\n",
    "\n",
    "U = get_BC(UU,T)\n",
    "\n",
    "T = get_Temperature(U)\n",
    "mu = get_visc(T)\n",
    "k = get_k(mu)\n",
    "\n",
    "t_xx = get_tau_xx_predict(U, mu)\n",
    "t_xy = get_tau_xy_predict(U,mu)\n",
    "t_yy = get_tau_yy_predict(U,mu)\n",
    "\n",
    "E = get_E_flux_predictor(U,mu,T,k, t_xx, t_xy)\n",
    "F = get_F_flux_predictor(U,mu,T,k, t_xy, t_yy)\n",
    "\n",
    "dt = get_dt(U,mu,T)"
   ]
  },
  {
   "cell_type": "raw",
   "metadata": {},
   "source": [
    "#predictor step\n",
    "Us = U.copy()\n",
    "Us[:,1:-1,1:-1] = U[:,1:-1,1:-1] -\\\n",
    "                          (dt/dx)*(E[:,2:,1:-1] - E[:,1:-1,1:-1]) - (dt/dy)*(F[:,1:-1,2:] - F[:,1:-1,1:-1])\n",
    "Ustar = get_BC(Us, T)"
   ]
  },
  {
   "cell_type": "raw",
   "metadata": {},
   "source": [
    "numpy.where(Ustar[0,:,:]==0)"
   ]
  },
  {
   "cell_type": "raw",
   "metadata": {},
   "source": [
    "T2 = get_Temperature(Ustar)  #looks good"
   ]
  },
  {
   "cell_type": "raw",
   "metadata": {},
   "source": [
    "numpy.where(T2<200)"
   ]
  },
  {
   "cell_type": "raw",
   "metadata": {},
   "source": [
    "mu2 = get_visc(T2)  #looks good\n",
    "k2 = get_k(mu2) #looks good"
   ]
  },
  {
   "cell_type": "raw",
   "metadata": {},
   "source": [
    "t_xx2 = get_tau_xx_correct(Ustar, mu2)\n",
    "t_xy2 = get_tau_xy_correct(Ustar,mu2)\n",
    "t_yy2 = get_tau_yy_correct(Ustar,mu2)\n"
   ]
  },
  {
   "cell_type": "raw",
   "metadata": {},
   "source": [
    "E2 = get_E_flux_correct(Ustar,mu2,T2,k2, t_xx2, t_xy2)\n",
    "F2 = get_F_flux_correct(Ustar,mu2,T2,k2, t_xy2, t_yy2)"
   ]
  },
  {
   "cell_type": "raw",
   "metadata": {},
   "source": [
    "#corrector step:\n",
    "Un = U.copy()\n",
    "Un[:,1:-1,1:-1] = 0.5*( U[:,1:-1,1:-1] + Ustar[:,1:-1,1:-1] -\\\n",
    "                               (dt/dx)*(E2[:,1:-1,1:-1]-E2[:,:-2,1:-1]) -\\\n",
    "                               (dt/dy)*(F2[:,1:-1,1:-1]-F2[:,1:-1,:-2] ))\n",
    "\n",
    "#Boundary Conditions\n",
    "UN = get_BC(Un, T2)"
   ]
  },
  {
   "cell_type": "code",
   "execution_count": 20,
   "metadata": {
    "collapsed": false
   },
   "outputs": [],
   "source": [
    "def maccormack(U_init, numt, numx, delx, dely):\n",
    "    \"\"\"\n",
    "    Parameters:\n",
    "    -----------\n",
    "    \"\"\"\n",
    "    Un = numpy.zeros((numt+1,4,numx,numx))\n",
    "    Un[0,:,:,:] = U_init.copy()\n",
    "    #\n",
    "    U = U_init.copy()\n",
    "    #\n",
    "    Us = U_init.copy()\n",
    "    #\n",
    "    uout = numpy.zeros((n-2))\n",
    "    vout = numpy.zeros((n-2))\n",
    "    Pout = numpy.zeros((n-2))\n",
    "    #\n",
    "    for t in range(1,numt+1):\n",
    "        #----\n",
    "        #get properties to calculate fluxes:\n",
    "        T = get_Temperature(U)\n",
    "        mu = get_visc(T)\n",
    "        k = get_k(mu)\n",
    "        #----\n",
    "        #get shear:\n",
    "        t_xx = get_tau_xx_predict(U, mu)\n",
    "        t_xy = get_tau_xy_predict(U, mu)\n",
    "        t_yy = get_tau_yy_predict(U, mu)\n",
    "        #---\n",
    "        #calculate fluxes E, F:\n",
    "        E = get_E_flux_predictor(U,mu,T,k, t_xx, t_xy)\n",
    "        F = get_F_flux_predictor(U,mu,T,k, t_xy, t_yy)\n",
    "        #---\n",
    "        #dt:\n",
    "        dt = get_dt(U,mu, T)\n",
    "        #print(dt)\n",
    "        #-----\n",
    "        #Predictor Step:\n",
    "        Us[:,1:-1,1:-1] = U[:,1:-1,1:-1] -\\\n",
    "                          (dt/dx)*(E[:,2:,1:-1] - E[:,1:-1,1:-1]) - (dt/dy)*(F[:,1:-1,2:] - F[:,1:-1,1:-1])\n",
    "        Ustar = get_BC(Us, T)\n",
    "        #----\n",
    "        #update properties:\n",
    "        T2 = get_Temperature(Ustar)\n",
    "        mu2 = get_visc(T2)\n",
    "        k2 = get_k(mu2)\n",
    "        #update shear:\n",
    "        t_xx2 = get_tau_xx_correct(Ustar, mu2)\n",
    "        t_xy2 = get_tau_xy_correct(Ustar,mu2)\n",
    "        t_yy2 = get_tau_yy_correct(Ustar,mu2)\n",
    "        #update fluxes:\n",
    "        E2 = get_E_flux_correct(Ustar,mu2,T2,k2, t_xx2, t_xy2)\n",
    "        F2 = get_F_flux_correct(Ustar,mu2,T2,k2, t_xy2, t_yy2)\n",
    "        #----\n",
    "        #corrector step:\n",
    "        Un[t,:,1:-1,1:-1] = 0.5*( U[:,1:-1,1:-1] + Ustar[:,1:-1,1:-1] -\\\n",
    "                               (dt/dx)*(E2[:,1:-1,1:-1]-E2[:,:-2,1:-1]) -\\\n",
    "                               (dt/dy)*(F2[:,1:-1,1:-1]-F2[:,1:-1,:-2] ))\n",
    "\n",
    "        #Boundary Conditions\n",
    "        Un[t,0,0,0] = rho_inf #leading edge\n",
    "        Un[t,0,1:,0] = (2*R*Un[t,0,1:,1]*T2[1:,1] - R*Un[t,0,1:,2]*T2[1:,2])/(R*T_wall) #density at plate\n",
    "        Un[t,0,-1,0] = Un[t,0,-2,0]\n",
    "        Un[t,0,0,1:] = rho_inf #inflow\n",
    "        Un[t,0,1:,-1] = rho_inf #top\n",
    "        #\n",
    "        #x-mom:\n",
    "        Un[t,1,:,0] = 0.0 #plate and leading edge\n",
    "        Un[t,1,0,1:] = rho_inf*u_inf #inflow\n",
    "        Un[t,1,1:,-1] = rho_inf*u_inf #top\n",
    "        #y-mom:\n",
    "        Un[t,2,:,0] = 0.0 #plate and leading edge\n",
    "        Un[t,2,0,1:] = 0.0 #inflow\n",
    "        Un[t,2,1:,-1] = 0.0 #top\n",
    "        #\n",
    "        #E_total:\n",
    "        Un[t,3,:,0] = rho_inf*(cv*T2[:,0]) #plate and leading edge\n",
    "        Un[t,3,0,1:] = rho_inf*(cv*T2[0,1:] + 0.5*u_inf**2) #inflow\n",
    "        Un[t,3,1:,-1] = rho_inf*(cv*T2[1:,-1] + 0.5*u_inf**2) #top\n",
    "        #\n",
    "        #at outflow, u,v, P, and T are extrapolated, then:\n",
    "        #\n",
    "        uout[:] = 2*Un[t,1,-2,1:-1]/Un[t,0,-2,1:-1] - Un[t,1,-3,1:-1]/Un[t,0,-3,1:-1]\n",
    "        vout[:] =  2*Un[t,2,-2,1:-1]/Un[t,0,-2,1:-1] - Un[t,2,-3,1:-1]/Un[t,0,-3,1:-1]\n",
    "        Pout[:] = 2*Un[t,0,-2,1:-1]*R*T2[-2,1:-1] - Un[t,0,-3,1:-1]*R*T2[-3,1:-1]\n",
    "        #\n",
    "        Un[t,0,-1,1:-1] = Pout[:]/(R*T2[-1,1:-1])\n",
    "        Un[t,1,-1,1:-1] = Un[t,0,-1,1:-1] * uout[:]\n",
    "        Un[t,2,-1,1:-1] = Un[t,0,-1,1:-1] * vout[:]\n",
    "        Un[t,3,-1,1:-1] = Un[t,0,-1,1:-1]*(T2[-1,1:-1]*cv + 0.5*(uout[:]**2 + vout[:]**2))\n",
    " \n",
    "        U = Un[t,:,:,:].copy()\n",
    "         \n",
    "    return Un"
   ]
  },
  {
   "cell_type": "code",
   "execution_count": 21,
   "metadata": {
    "collapsed": false
   },
   "outputs": [],
   "source": [
    "UU = get_Uinitial(rho_inf, u_inf, v_inf, V_inf, T_inf, e_inf)"
   ]
  },
  {
   "cell_type": "code",
   "execution_count": 22,
   "metadata": {
    "collapsed": false
   },
   "outputs": [],
   "source": [
    "US = maccormack(UU, 5001, n, dx, dy)"
   ]
  },
  {
   "cell_type": "code",
   "execution_count": 23,
   "metadata": {
    "collapsed": false
   },
   "outputs": [],
   "source": [
    "#US[3100,0,:,2]"
   ]
  },
  {
   "cell_type": "markdown",
   "metadata": {},
   "source": [
    "## PLOT"
   ]
  },
  {
   "cell_type": "code",
   "execution_count": 24,
   "metadata": {
    "collapsed": true
   },
   "outputs": [],
   "source": [
    "import matplotlib.animation as animation\n",
    "import pylab \n",
    "import types"
   ]
  },
  {
   "cell_type": "code",
   "execution_count": 25,
   "metadata": {
    "collapsed": true
   },
   "outputs": [],
   "source": [
    "x = numpy.linspace(0,L,n)\n",
    "y = numpy.linspace(0,Y,n)\n",
    "mx, my = numpy.meshgrid(x,y)"
   ]
  },
  {
   "cell_type": "code",
   "execution_count": 26,
   "metadata": {
    "collapsed": true
   },
   "outputs": [],
   "source": [
    "Uf = US[-1,:,:,:].copy()"
   ]
  },
  {
   "cell_type": "code",
   "execution_count": 27,
   "metadata": {
    "collapsed": false
   },
   "outputs": [],
   "source": [
    "Tf = get_Temperature(Uf)"
   ]
  },
  {
   "cell_type": "markdown",
   "metadata": {},
   "source": [
    "### The pressure profile at the surface shows that steady state has been reached"
   ]
  },
  {
   "cell_type": "code",
   "execution_count": 28,
   "metadata": {
    "collapsed": true
   },
   "outputs": [],
   "source": [
    "def get_Pressure(Uv, Temp):\n",
    "    P = numpy.zeros((n,n))\n",
    "    P[:,:] = Uv[0,:,:]*R*Temp[:,:]\n",
    "    return P"
   ]
  },
  {
   "cell_type": "code",
   "execution_count": 29,
   "metadata": {
    "collapsed": false
   },
   "outputs": [],
   "source": [
    "Pf = get_Pressure(Uf, Tf)"
   ]
  },
  {
   "cell_type": "code",
   "execution_count": 30,
   "metadata": {
    "collapsed": false
   },
   "outputs": [
    {
     "data": {
      "text/plain": [
       "(70, 70)"
      ]
     },
     "execution_count": 30,
     "metadata": {},
     "output_type": "execute_result"
    }
   ],
   "source": [
    "numpy.shape(Pf)"
   ]
  },
  {
   "cell_type": "code",
   "execution_count": 31,
   "metadata": {
    "collapsed": false
   },
   "outputs": [
    {
     "data": {
      "image/png": "[encoded data removed]",
      "text/plain": [
       "<matplotlib.figure.Figure at 0x107448a90>"
      ]
     },
     "metadata": {},
     "output_type": "display_data"
    }
   ],
   "source": [
    "pyplot.plot(x, Pf[:,0]/P_inf );"
   ]
  },
  {
   "cell_type": "code",
   "execution_count": 32,
   "metadata": {
    "collapsed": true
   },
   "outputs": [],
   "source": [
    "### X-momentum"
   ]
  },
  {
   "cell_type": "code",
   "execution_count": 33,
   "metadata": {
    "collapsed": false
   },
   "outputs": [
    {
     "data": {
      "image/png": "[encoded data removed]",
      "text/plain": [
       "<matplotlib.figure.Figure at 0x10746f4a8>"
      ]
     },
     "metadata": {},
     "output_type": "display_data"
    }
   ],
   "source": [
    "pyplot.figure(figsize=(8,5))\n",
    "pyplot.contourf(my,mx,US[-1,1,:,:])\n",
    "pyplot.xlabel('$x$')\n",
    "pyplot.ylabel('$y$')\n",
    "pyplot.colorbar();"
   ]
  },
  {
   "cell_type": "code",
   "execution_count": 34,
   "metadata": {
    "collapsed": true
   },
   "outputs": [],
   "source": [
    "### Y-momentum"
   ]
  },
  {
   "cell_type": "code",
   "execution_count": 35,
   "metadata": {
    "collapsed": false
   },
   "outputs": [
    {
     "data": {
      "image/png": "[encoded data removed]",
      "text/plain": [
       "<matplotlib.figure.Figure at 0x137506668>"
      ]
     },
     "metadata": {},
     "output_type": "display_data"
    }
   ],
   "source": [
    "pyplot.figure(figsize=(8,5))\n",
    "pyplot.contourf(my,mx,US[-1,2,:,:])\n",
    "pyplot.xlabel('$x$')\n",
    "pyplot.ylabel('$y$')\n",
    "pyplot.colorbar();"
   ]
  },
  {
   "cell_type": "code",
   "execution_count": 36,
   "metadata": {
    "collapsed": true
   },
   "outputs": [],
   "source": [
    "### Total Energy"
   ]
  },
  {
   "cell_type": "code",
   "execution_count": 37,
   "metadata": {
    "collapsed": false
   },
   "outputs": [
    {
     "data": {
      "image/png": "[encoded data removed]",
      "text/plain": [
       "<matplotlib.figure.Figure at 0x137733e80>"
      ]
     },
     "metadata": {},
     "output_type": "display_data"
    }
   ],
   "source": [
    "pyplot.figure(figsize=(8,5))\n",
    "pyplot.contourf(my,mx,US[-1,3,:,:])\n",
    "pyplot.xlabel('$x$')\n",
    "pyplot.ylabel('$y$')\n",
    "pyplot.colorbar();"
   ]
  },
  {
   "cell_type": "markdown",
   "metadata": {},
   "source": [
    "## Animate!"
   ]
  },
  {
   "cell_type": "code",
   "execution_count": 40,
   "metadata": {
    "collapsed": false
   },
   "outputs": [],
   "source": [
    "# fig = pyplot.figure(figsize=(8,5))\n",
    "\n",
    "# ims = []\n",
    "\n",
    "# for i in range(0,5000,100):\n",
    "#     im = pyplot.contourf(my,mx,US[i,0,:,:])\n",
    "#     def setvisible(self,vis):\n",
    "#         for c in self.collections: c.set_visible(vis)\n",
    "#     im.set_visible = types.MethodType(setvisible,im)\n",
    "#     im.axes = pylab.gca()\n",
    "#     im.figure=fig\n",
    "#     #pyplot.colorbar()\n",
    "#     ims.append([im])\n"
   ]
  },
  {
   "cell_type": "code",
   "execution_count": 41,
   "metadata": {
    "collapsed": false
   },
   "outputs": [],
   "source": [
    "# #ani = animation.FuncAnimation(fig,ims)\n",
    "# ani = animation.ArtistAnimation(fig, ims)\n",
    "# display_animation(ani, default_mode='once')\n"
   ]
  }
 ],
 "metadata": {
  "kernelspec": {
   "display_name": "Python 3",
   "language": "python",
   "name": "python3"
  },
  "language_info": {
   "codemirror_mode": {
    "name": "ipython",
    "version": 3
   },
   "file_extension": ".py",
   "mimetype": "text/x-python",
   "name": "python",
   "nbconvert_exporter": "python",
   "pygments_lexer": "ipython3",
   "version": "3.4.3"
  }
 },
 "nbformat": 4,
 "nbformat_minor": 0
}
